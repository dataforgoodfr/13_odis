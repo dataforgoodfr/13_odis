{
 "cells": [
  {
   "cell_type": "code",
   "execution_count": null,
   "metadata": {},
   "outputs": [],
   "source": [
    "\n",
    "\n",
    "\n",
    "def print_result():\n",
    "    # be careful: no trailing comma\n",
    "    # in the last dictionary item\n",
    "    # otherwise it will be an error\n",
    "    return {\n",
    "        \"hello\": \"world\"\n",
    "    }\n",
    "    \n",
    "print_result()\n"
   ]
  },
  {
   "cell_type": "code",
   "execution_count": null,
   "metadata": {},
   "outputs": [],
   "source": [
    "def print_other_result():\n",
    "    # be careful: no trailing comma\n",
    "    # in the last dictionary item\n",
    "    # otherwise it will be an error\n",
    "    return \"another_result\"\n",
    "\n",
    "\n",
    "print_other_result()"
   ]
  }
 ],
 "metadata": {
  "kernelspec": {
   "display_name": "Python 3 (ipykernel)",
   "language": "python",
   "name": "python3"
  },
  "language_info": {
   "codemirror_mode": {
    "name": "ipython",
    "version": 3
   },
   "file_extension": ".py",
   "mimetype": "text/x-python",
   "name": "python",
   "nbconvert_exporter": "python",
   "pygments_lexer": "ipython3",
   "version": "3.12.6"
  }
 },
 "nbformat": 4,
 "nbformat_minor": 4
}
