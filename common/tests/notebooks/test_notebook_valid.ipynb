{
 "cells": [
  {
   "cell_type": "code",
   "execution_count": null,
   "metadata": {},
   "outputs": [],
   "source": [
    "import pathlib\n",
    "from common.utils.source_extractors import NotebookResult\n",
    "\n",
    "\n",
    "def return_result() -> NotebookResult:\n",
    "    \n",
    "    # awful hack to get the path to the data file\n",
    "    # in the current directory while running the pytest from the root\n",
    "    data_file = pathlib.Path.cwd() / \"common/tests/data/test_data.csv\"\n",
    "\n",
    "    # be careful: no trailing comma\n",
    "    # in the last dictionary item\n",
    "    # otherwise it will be an error\n",
    "    return NotebookResult(\n",
    "        data_files=[str(data_file)],\n",
    "        format=\"csv\",\n",
    "    ).model_dump()\n",
    "\n",
    "return_result()"
   ]
  },
  {
   "cell_type": "code",
   "execution_count": null,
   "metadata": {},
   "outputs": [],
   "source": []
  }
 ],
 "metadata": {
  "kernelspec": {
   "display_name": "Python 3 (ipykernel)",
   "language": "python",
   "name": "python3"
  },
  "language_info": {
   "codemirror_mode": {
    "name": "ipython",
    "version": 3
   },
   "file_extension": ".py",
   "mimetype": "text/x-python",
   "name": "python",
   "nbconvert_exporter": "python",
   "pygments_lexer": "ipython3",
   "version": "3.12.6"
  }
 },
 "nbformat": 4,
 "nbformat_minor": 4
}
