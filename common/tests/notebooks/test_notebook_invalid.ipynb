{
 "cells": [
  {
   "cell_type": "code",
   "execution_count": null,
   "metadata": {},
   "outputs": [],
   "source": [
    "# the result of this script is not valid\n",
    "# because it does not respect the NotebookResult contract\n",
    "\n",
    "def return_result():\n",
    "    return {\"hello\": \"world\"}\n",
    "\n",
    "\n",
    "return_result()"
   ]
  }
 ],
 "metadata": {
  "language_info": {
   "name": "python"
  }
 },
 "nbformat": 4,
 "nbformat_minor": 2
}
