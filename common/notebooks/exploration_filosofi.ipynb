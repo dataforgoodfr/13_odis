{
 "cells": [
  {
   "cell_type": "markdown",
   "metadata": {},
   "source": [
    "# Exploration : Fichier FiLoSoFi\n",
    "\n",
    "Fichier Localisé Social et Fiscal (FiLoSoFi) - Année 2021\n",
    "Source(s) : Insee-DGFIP-Cnaf-Cnav-CCMSA, Fichier localisé social et fiscal.\n",
    "Mise en ligne le 29/01/2024\n",
    "Géographie au 01/01/2022"
   ]
  },
  {
   "cell_type": "markdown",
   "metadata": {},
   "source": []
  },
  {
   "cell_type": "code",
   "execution_count": 59,
   "metadata": {},
   "outputs": [
    {
     "name": "stdout",
     "output_type": "stream",
     "text": [
      "FILO2021_DEC_PAUVRES_COM_sheet1.xlsx\n",
      "['ENSEMBLE', 'TRAGERF_1']\n"
     ]
    }
   ],
   "source": [
    "import pandas as pd\n",
    "\n",
    "import os\n",
    "\n",
    "domain = 'logement'\n",
    "source = 'distribution_revenus'\n",
    "\n",
    "root_path = os.path.abspath('../..')\n",
    "input_folder = 'indic-struct-distrib-revenu-2021-COMMUNES_XLSX'\n",
    "input_path = os.path.join(root_path,'data/imports/emploi',input_folder)\n",
    "\n",
    "\n",
    "file_list = os.listdir(input_path)\n",
    "\n",
    "filename = 'FILO2021_DEC_PAUVRES_COM_sheet1.xlsx'\n",
    "print(filename)\n",
    "\n",
    "tablename, extname = os.path.splitext(filename)\n",
    "filepath = os.path.join(input_path,filename)\n",
    "\n",
    "workbook = pd.ExcelFile(filepath, engine='openpyxl')\n",
    "sheet_names = workbook.sheet_names\n",
    "\n",
    "dataframes = workbook.parse(sheet_name = sheet_names, header=5, index_col=[0,1])\n",
    "datarefs = workbook.parse(sheet_name = sheet_names, skiprows = 4, nrows = 1)\n",
    "\n",
    "print(sheet_names)"
   ]
  },
  {
   "cell_type": "code",
   "execution_count": 60,
   "metadata": {},
   "outputs": [
    {
     "data": {
      "text/html": [
       "<div>\n",
       "<style scoped>\n",
       "    .dataframe tbody tr th:only-of-type {\n",
       "        vertical-align: middle;\n",
       "    }\n",
       "\n",
       "    .dataframe tbody tr th {\n",
       "        vertical-align: top;\n",
       "    }\n",
       "\n",
       "    .dataframe thead th {\n",
       "        text-align: right;\n",
       "    }\n",
       "</style>\n",
       "<table border=\"1\" class=\"dataframe\">\n",
       "  <thead>\n",
       "    <tr style=\"text-align: right;\">\n",
       "      <th></th>\n",
       "      <th>Code géographique</th>\n",
       "      <th>Libellé géographique</th>\n",
       "      <th>Tx seuil 40 % des revenus déclarés</th>\n",
       "      <th>Tx seuil 50 % des revenus déclarés</th>\n",
       "      <th>Tx seuil 60 % des revenus déclarés</th>\n",
       "      <th>Médiane sur la sous-pop à bas revenus sous le seuil 60 %</th>\n",
       "      <th>Intensité des bas revenus au seuil 60 %</th>\n",
       "    </tr>\n",
       "  </thead>\n",
       "  <tbody>\n",
       "    <tr>\n",
       "      <th>0</th>\n",
       "      <td>CODGEO</td>\n",
       "      <td>LIBGEO</td>\n",
       "      <td>AGE1TP4021</td>\n",
       "      <td>AGE1TP5021</td>\n",
       "      <td>AGE1TP6021</td>\n",
       "      <td>AGE1TP60Q221</td>\n",
       "      <td>AGE1TP60IP21</td>\n",
       "    </tr>\n",
       "  </tbody>\n",
       "</table>\n",
       "</div>"
      ],
      "text/plain": [
       "  Code géographique Libellé géographique Tx seuil 40 % des revenus déclarés  \\\n",
       "0            CODGEO               LIBGEO                         AGE1TP4021   \n",
       "\n",
       "  Tx seuil 50 % des revenus déclarés Tx seuil 60 % des revenus déclarés  \\\n",
       "0                         AGE1TP5021                         AGE1TP6021   \n",
       "\n",
       "  Médiane sur la sous-pop à bas revenus sous le seuil 60 %  \\\n",
       "0                                       AGE1TP60Q221         \n",
       "\n",
       "  Intensité des bas revenus au seuil 60 %  \n",
       "0                            AGE1TP60IP21  "
      ]
     },
     "execution_count": 60,
     "metadata": {},
     "output_type": "execute_result"
    }
   ],
   "source": [
    "datarefs['TRAGERF_1']"
   ]
  },
  {
   "cell_type": "code",
   "execution_count": null,
   "metadata": {},
   "outputs": [],
   "source": []
  }
 ],
 "metadata": {
  "kernelspec": {
   "display_name": ".venv",
   "language": "python",
   "name": "python3"
  },
  "language_info": {
   "codemirror_mode": {
    "name": "ipython",
    "version": 3
   },
   "file_extension": ".py",
   "mimetype": "text/x-python",
   "name": "python",
   "nbconvert_exporter": "python",
   "pygments_lexer": "ipython3",
   "version": "3.12.9"
  }
 },
 "nbformat": 4,
 "nbformat_minor": 2
}
