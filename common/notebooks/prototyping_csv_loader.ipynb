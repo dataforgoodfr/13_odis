{
 "cells": [
  {
   "cell_type": "markdown",
   "metadata": {},
   "source": [
    "# Prototyping : CSV Loader\n",
    "\n",
    "Playing around to figure the implemetnation of a csv loader based on pandas"
   ]
  },
  {
   "cell_type": "code",
   "execution_count": 29,
   "metadata": {},
   "outputs": [
    {
     "name": "stdout",
     "output_type": "stream",
     "text": [
      "Importing file: /Users/alex/dev/13_odis/data/imports/logement/logement_annual_dept_data_full.csv\n"
     ]
    }
   ],
   "source": [
    "import pandas as pd\n",
    "import os\n",
    "import sys\n",
    "from dotenv import dotenv_values\n",
    "\n",
    "domain = 'logement'\n",
    "source = 'annual_dept_data'\n",
    "\n",
    "root_path = os.path.dirname(os.path.dirname(os.path.abspath('.')))\n",
    "input_path = os.path.join(root_path,\"data/imports\",domain)\n",
    "common_path = os.path.join(root_path, \"common\")\n",
    "\n",
    "sys.path.append(root_path)\n",
    "sys.path.append(common_path)\n",
    "\n",
    "from common.utils.database_client import DatabaseClient\n",
    "\n",
    "\n",
    "file_list = os.listdir(input_path)\n",
    "\n",
    "filename = 'logement_annual_dept_data_full.csv'\n",
    "\n",
    "tablename, extname = os.path.splitext(filename)\n",
    "filepath = os.path.join(input_path,filename)\n",
    "print(f\"Importing file: {filepath}\")"
   ]
  },
  {
   "cell_type": "code",
   "execution_count": 30,
   "metadata": {},
   "outputs": [
    {
     "data": {
      "text/html": [
       "<div>\n",
       "<style scoped>\n",
       "    .dataframe tbody tr th:only-of-type {\n",
       "        vertical-align: middle;\n",
       "    }\n",
       "\n",
       "    .dataframe tbody tr th {\n",
       "        vertical-align: top;\n",
       "    }\n",
       "\n",
       "    .dataframe thead th {\n",
       "        text-align: right;\n",
       "    }\n",
       "</style>\n",
       "<table border=\"1\" class=\"dataframe\">\n",
       "  <thead>\n",
       "    <tr style=\"text-align: right;\">\n",
       "      <th></th>\n",
       "      <th>ANNEE</th>\n",
       "      <th>DEPARTEMENT_CODE</th>\n",
       "      <th>DEPARTEMENT_LIBELLE</th>\n",
       "      <th>TYPE_LGT</th>\n",
       "      <th>LOG_AUT</th>\n",
       "      <th>LOG_COM</th>\n",
       "      <th>SDP_AUT</th>\n",
       "      <th>SDP_COM</th>\n",
       "    </tr>\n",
       "  </thead>\n",
       "  <tbody>\n",
       "    <tr>\n",
       "      <th>0</th>\n",
       "      <td>2023</td>\n",
       "      <td>01</td>\n",
       "      <td>Ain</td>\n",
       "      <td>Tous Logements</td>\n",
       "      <td>4586</td>\n",
       "      <td>NaN</td>\n",
       "      <td>409166</td>\n",
       "      <td>NaN</td>\n",
       "    </tr>\n",
       "    <tr>\n",
       "      <th>1</th>\n",
       "      <td>2023</td>\n",
       "      <td>01</td>\n",
       "      <td>Ain</td>\n",
       "      <td>Individuel pur</td>\n",
       "      <td>1273</td>\n",
       "      <td>NaN</td>\n",
       "      <td>159228</td>\n",
       "      <td>NaN</td>\n",
       "    </tr>\n",
       "    <tr>\n",
       "      <th>2</th>\n",
       "      <td>2023</td>\n",
       "      <td>01</td>\n",
       "      <td>Ain</td>\n",
       "      <td>Individuel groupé</td>\n",
       "      <td>673</td>\n",
       "      <td>NaN</td>\n",
       "      <td>67030</td>\n",
       "      <td>NaN</td>\n",
       "    </tr>\n",
       "    <tr>\n",
       "      <th>3</th>\n",
       "      <td>2023</td>\n",
       "      <td>01</td>\n",
       "      <td>Ain</td>\n",
       "      <td>Collectif</td>\n",
       "      <td>2558</td>\n",
       "      <td>NaN</td>\n",
       "      <td>178189</td>\n",
       "      <td>NaN</td>\n",
       "    </tr>\n",
       "    <tr>\n",
       "      <th>4</th>\n",
       "      <td>2023</td>\n",
       "      <td>01</td>\n",
       "      <td>Ain</td>\n",
       "      <td>Résidence</td>\n",
       "      <td>82</td>\n",
       "      <td>NaN</td>\n",
       "      <td>4719</td>\n",
       "      <td>NaN</td>\n",
       "    </tr>\n",
       "  </tbody>\n",
       "</table>\n",
       "</div>"
      ],
      "text/plain": [
       "   ANNEE DEPARTEMENT_CODE DEPARTEMENT_LIBELLE           TYPE_LGT  LOG_AUT  \\\n",
       "0   2023               01                 Ain     Tous Logements     4586   \n",
       "1   2023               01                 Ain     Individuel pur     1273   \n",
       "2   2023               01                 Ain  Individuel groupé      673   \n",
       "3   2023               01                 Ain          Collectif     2558   \n",
       "4   2023               01                 Ain          Résidence       82   \n",
       "\n",
       "   LOG_COM  SDP_AUT  SDP_COM  \n",
       "0      NaN   409166      NaN  \n",
       "1      NaN   159228      NaN  \n",
       "2      NaN    67030      NaN  \n",
       "3      NaN   178189      NaN  \n",
       "4      NaN     4719      NaN  "
      ]
     },
     "execution_count": 30,
     "metadata": {},
     "output_type": "execute_result"
    }
   ],
   "source": [
    "# Import dataframe\n",
    "DEFAULT_SEPARATOR = ';'\n",
    "df = pd.read_csv(filepath, sep = DEFAULT_SEPARATOR, header = 2)\n",
    "\n",
    "df.head()"
   ]
  },
  {
   "cell_type": "code",
   "execution_count": 31,
   "metadata": {},
   "outputs": [
    {
     "ename": "AttributeError",
     "evalue": "type object 'DatabaseClient' has no attribute 'from_dotenv'",
     "output_type": "error",
     "traceback": [
      "\u001b[0;31m---------------------------------------------------------------------------\u001b[0m",
      "\u001b[0;31mAttributeError\u001b[0m                            Traceback (most recent call last)",
      "Cell \u001b[0;32mIn[31], line 3\u001b[0m\n\u001b[1;32m      1\u001b[0m \u001b[38;5;66;03m# Import db client\u001b[39;00m\n\u001b[1;32m      2\u001b[0m env_config \u001b[38;5;241m=\u001b[39m dotenv_values()\n\u001b[0;32m----> 3\u001b[0m client \u001b[38;5;241m=\u001b[39m \u001b[43mDatabaseClient\u001b[49m\u001b[38;5;241;43m.\u001b[39;49m\u001b[43mfrom_dotenv\u001b[49m(env_config \u001b[38;5;241m=\u001b[39m env_config)\n\u001b[1;32m      5\u001b[0m df\u001b[38;5;241m.\u001b[39mto_sql(tablename, con \u001b[38;5;241m=\u001b[39m client\u001b[38;5;241m.\u001b[39mconnection, schema \u001b[38;5;241m=\u001b[39m \u001b[38;5;124m'\u001b[39m\u001b[38;5;124mbronze\u001b[39m\u001b[38;5;124m'\u001b[39m, if_exists \u001b[38;5;241m=\u001b[39m \u001b[38;5;124m'\u001b[39m\u001b[38;5;124mreplace\u001b[39m\u001b[38;5;124m'\u001b[39m)\n",
      "\u001b[0;31mAttributeError\u001b[0m: type object 'DatabaseClient' has no attribute 'from_dotenv'"
     ]
    }
   ],
   "source": [
    "# Import db client\n",
    "env_config = dotenv_values()\n",
    "client = DatabaseClient.from_dotenv(env_config = env_config)\n",
    "\n",
    "df.to_sql(tablename, con = client.connection, schema = 'bronze', if_exists = 'replace')"
   ]
  },
  {
   "cell_type": "code",
   "execution_count": null,
   "metadata": {},
   "outputs": [],
   "source": []
  }
 ],
 "metadata": {
  "kernelspec": {
   "display_name": ".venv",
   "language": "python",
   "name": "python3"
  },
  "language_info": {
   "codemirror_mode": {
    "name": "ipython",
    "version": 3
   },
   "file_extension": ".py",
   "mimetype": "text/x-python",
   "name": "python",
   "nbconvert_exporter": "python",
   "pygments_lexer": "ipython3",
   "version": "3.12.9"
  }
 },
 "nbformat": 4,
 "nbformat_minor": 2
}
