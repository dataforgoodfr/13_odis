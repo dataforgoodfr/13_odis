{
 "cells": [
  {
   "cell_type": "code",
   "execution_count": 1,
   "id": "aee0f389",
   "metadata": {},
   "outputs": [
    {
     "name": "stdout",
     "output_type": "stream",
     "text": [
      "changing to parent dir\n",
      "/Users/alex/dev/13_odis\n"
     ]
    }
   ],
   "source": [
    "# Manage all imports\n",
    "import pandas as pd\n",
    "import os\n",
    "import datetime\n",
    "import sys\n",
    "\n",
    "# Dirty trick to be able to import common odis modules, if the notebook is not executed from 13_odis\n",
    "current_dir = os.getcwd()\n",
    "parent_dir = os.path.dirname(os.getcwd())\n",
    "while not current_dir.endswith(\"13_odis\"):\n",
    "    print(\"changing to parent dir\")\n",
    "    os.chdir(parent_dir)\n",
    "    current_dir = parent_dir\n",
    "    parent_dir = os.path.dirname(current_dir)\n",
    "\n",
    "print(os.getcwd())\n",
    "sys.path.append(current_dir)"
   ]
  },
  {
   "cell_type": "code",
   "execution_count": 2,
   "id": "f19fac1b",
   "metadata": {},
   "outputs": [],
   "source": [
    "# additional imports\n",
    "from common.config import load_config\n",
    "from common.data_source_model import DataSourceModel\n",
    "from common.utils.file_handler import FileHandler\n",
    "from common.utils.interfaces.data_handler import OperationType"
   ]
  },
  {
   "cell_type": "code",
   "execution_count": null,
   "id": "cd4c15cb",
   "metadata": {
    "tags": [
     "parameters"
    ]
   },
   "outputs": [],
   "source": [
    "# Define parameters for papermill\n",
    "model_name = \"emploi.bmo_2024\"\n",
    "filepath = 'data/imports/emploi/emploi.bmo_2024_1.zip'"
   ]
  },
  {
   "cell_type": "code",
   "execution_count": null,
   "id": "3fadac0c",
   "metadata": {},
   "outputs": [],
   "source": [
    "# Initialize common variables\n",
    "dataframes = {}\n",
    "artifacts = []\n",
    "\n",
    "config = load_config(\"datasources.yaml\", response_model=DataSourceModel)\n",
    "model = config.get_model( model_name = model_name )\n",
    "start_time = datetime.datetime.now()\n",
    "\n",
    "# Instantiate File Handler for file loads and dumps\n",
    "handler = FileHandler()"
   ]
  },
  {
   "cell_type": "code",
   "execution_count": 5,
   "id": "1b5ebbd6-1ec4-4e45-8890-1155ea52684c",
   "metadata": {},
   "outputs": [
    {
     "name": "stdout",
     "output_type": "stream",
     "text": [
      "xlsx\n",
      "2025-04-11 12:17:58,585 - main - INFO :: file_handler.py :: emploi.bmo_2024 -> results saved to : 'data/imports/emploi/emploi.bmo_2024_file.xlsx'\n",
      "{'name': 'file', 'storage_info': {'location': 'data/imports/emploi', 'format': 'xlsx', 'file_name': 'emploi.bmo_2024_file.xlsx', 'encoding': 'utf-8'}, 'load_to_bronze': True, 'success': True}\n"
     ]
    }
   ],
   "source": [
    "from zipfile import ZipFile\n",
    "\n",
    "# unzip and dump files into the data/imports folder\n",
    "with open(filepath, 'rb') as f:\n",
    "    zip_archive = ZipFile(f)\n",
    "\n",
    "    zip_members = zip_archive.infolist()\n",
    "    for member in zip_members:\n",
    "\n",
    "        if not member.is_dir():\n",
    "\n",
    "            member_filename = member.filename\n",
    "            member_name = member_filename.split(\".\")[0]\n",
    "            member_format = member_filename.split(\".\")[-1]\n",
    "            print(member_format)\n",
    "            \n",
    "            f_member = zip_archive.open( member, 'r' ).read()\n",
    "    \n",
    "            artifact = handler.artifact_dump(\n",
    "                f_member,\n",
    "                \"file\",\n",
    "                model,\n",
    "                format = member_format\n",
    "            )\n",
    "\n",
    "            print(artifact.model_dump(mode=\"yaml\"))\n",
    "\n",
    "            artifacts.append(artifact)"
   ]
  },
  {
   "cell_type": "code",
   "execution_count": 6,
   "id": "e0e95b98",
   "metadata": {},
   "outputs": [
    {
     "name": "stdout",
     "output_type": "stream",
     "text": [
      "2025-04-11 12:18:00,197 - main - INFO :: file_handler.py :: emploi.bmo_2024 -> results saved to : 'data/imports/emploi/emploi.bmo_2024_metadata_preprocess.json'\n",
      "2025-04-11 12:18:00,199 - main - DEBUG :: file_handler.py :: Metadata written in: 'data/imports/emploi/emploi.bmo_2024_metadata_preprocess.json'\n"
     ]
    }
   ],
   "source": [
    "preprocess_metadata = handler.dump_metadata(\n",
    "    model = model,\n",
    "    operation = OperationType.PREPROCESS,\n",
    "    start_time = start_time,\n",
    "    complete = True,\n",
    "    errors = 0,\n",
    "    artifacts = artifacts,\n",
    "    pages = []\n",
    ")"
   ]
  },
  {
   "cell_type": "code",
   "execution_count": 7,
   "id": "7e35462b-bcc3-4f98-84d7-f71e8cb7873f",
   "metadata": {},
   "outputs": [
    {
     "data": {
      "text/html": [
       "<div>\n",
       "<style scoped>\n",
       "    .dataframe tbody tr th:only-of-type {\n",
       "        vertical-align: middle;\n",
       "    }\n",
       "\n",
       "    .dataframe tbody tr th {\n",
       "        vertical-align: top;\n",
       "    }\n",
       "\n",
       "    .dataframe thead th {\n",
       "        text-align: right;\n",
       "    }\n",
       "</style>\n",
       "<table border=\"1\" class=\"dataframe\">\n",
       "  <thead>\n",
       "    <tr style=\"text-align: right;\">\n",
       "      <th></th>\n",
       "      <th>annee</th>\n",
       "      <th>Code métier BMO</th>\n",
       "      <th>Nom métier BMO</th>\n",
       "      <th>Famille_met</th>\n",
       "      <th>Lbl_fam_met</th>\n",
       "      <th>REG</th>\n",
       "      <th>NOM_REG</th>\n",
       "      <th>Dept</th>\n",
       "      <th>NomDept</th>\n",
       "      <th>BE24</th>\n",
       "      <th>NOMBE24</th>\n",
       "      <th>met</th>\n",
       "      <th>xmet</th>\n",
       "      <th>smet</th>\n",
       "    </tr>\n",
       "  </thead>\n",
       "  <tbody>\n",
       "    <tr>\n",
       "      <th>0</th>\n",
       "      <td>2024</td>\n",
       "      <td>A0X40</td>\n",
       "      <td>Agriculteurs</td>\n",
       "      <td>Z</td>\n",
       "      <td>Autres métiers</td>\n",
       "      <td>1</td>\n",
       "      <td>Guadeloupe</td>\n",
       "      <td>971</td>\n",
       "      <td>Guadeloupe</td>\n",
       "      <td>101</td>\n",
       "      <td>BASSIN BASSE-TERRE</td>\n",
       "      <td>95</td>\n",
       "      <td>31</td>\n",
       "      <td>44</td>\n",
       "    </tr>\n",
       "    <tr>\n",
       "      <th>1</th>\n",
       "      <td>2024</td>\n",
       "      <td>A0X40</td>\n",
       "      <td>Agriculteurs</td>\n",
       "      <td>Z</td>\n",
       "      <td>Autres métiers</td>\n",
       "      <td>1</td>\n",
       "      <td>Guadeloupe</td>\n",
       "      <td>971</td>\n",
       "      <td>Guadeloupe</td>\n",
       "      <td>102</td>\n",
       "      <td>BASSIN GRANDE-TERRE</td>\n",
       "      <td>167</td>\n",
       "      <td>69</td>\n",
       "      <td>86</td>\n",
       "    </tr>\n",
       "    <tr>\n",
       "      <th>2</th>\n",
       "      <td>2024</td>\n",
       "      <td>A0X40</td>\n",
       "      <td>Agriculteurs</td>\n",
       "      <td>Z</td>\n",
       "      <td>Autres métiers</td>\n",
       "      <td>1</td>\n",
       "      <td>Guadeloupe</td>\n",
       "      <td>971</td>\n",
       "      <td>Guadeloupe</td>\n",
       "      <td>103</td>\n",
       "      <td>BASSIN MARIE-GALANTE</td>\n",
       "      <td>17</td>\n",
       "      <td>*</td>\n",
       "      <td>*</td>\n",
       "    </tr>\n",
       "    <tr>\n",
       "      <th>3</th>\n",
       "      <td>2024</td>\n",
       "      <td>A0X40</td>\n",
       "      <td>Agriculteurs</td>\n",
       "      <td>Z</td>\n",
       "      <td>Autres métiers</td>\n",
       "      <td>1</td>\n",
       "      <td>Guadeloupe</td>\n",
       "      <td>978</td>\n",
       "      <td>Guadeloupe</td>\n",
       "      <td>104</td>\n",
       "      <td>BASSIN ILES DU NORD</td>\n",
       "      <td>6</td>\n",
       "      <td>6</td>\n",
       "      <td>*</td>\n",
       "    </tr>\n",
       "    <tr>\n",
       "      <th>4</th>\n",
       "      <td>2024</td>\n",
       "      <td>A0X40</td>\n",
       "      <td>Agriculteurs</td>\n",
       "      <td>Z</td>\n",
       "      <td>Autres métiers</td>\n",
       "      <td>1</td>\n",
       "      <td>Guadeloupe</td>\n",
       "      <td>971</td>\n",
       "      <td>Guadeloupe</td>\n",
       "      <td>105</td>\n",
       "      <td>BASSIN CENTRE</td>\n",
       "      <td>45</td>\n",
       "      <td>37</td>\n",
       "      <td>30</td>\n",
       "    </tr>\n",
       "  </tbody>\n",
       "</table>\n",
       "</div>"
      ],
      "text/plain": [
       "   annee Code métier BMO Nom métier BMO Famille_met     Lbl_fam_met  REG  \\\n",
       "0   2024           A0X40   Agriculteurs           Z  Autres métiers    1   \n",
       "1   2024           A0X40   Agriculteurs           Z  Autres métiers    1   \n",
       "2   2024           A0X40   Agriculteurs           Z  Autres métiers    1   \n",
       "3   2024           A0X40   Agriculteurs           Z  Autres métiers    1   \n",
       "4   2024           A0X40   Agriculteurs           Z  Autres métiers    1   \n",
       "\n",
       "      NOM_REG Dept     NomDept  BE24               NOMBE24  met xmet smet  \n",
       "0  Guadeloupe  971  Guadeloupe   101    BASSIN BASSE-TERRE   95   31   44  \n",
       "1  Guadeloupe  971  Guadeloupe   102   BASSIN GRANDE-TERRE  167   69   86  \n",
       "2  Guadeloupe  971  Guadeloupe   103  BASSIN MARIE-GALANTE   17    *    *  \n",
       "3  Guadeloupe  978  Guadeloupe   104   BASSIN ILES DU NORD    6    6    *  \n",
       "4  Guadeloupe  971  Guadeloupe   105         BASSIN CENTRE   45   37   30  "
      ]
     },
     "execution_count": 7,
     "metadata": {},
     "output_type": "execute_result"
    }
   ],
   "source": [
    "from pathlib import Path\n",
    "artifact = artifacts[0]\n",
    "\n",
    "xls_base_path = Path( artifact.storage_info.location )\n",
    "xls_filepath = xls_base_path / artifact.storage_info.file_name\n",
    "\n",
    "df = pd.read_excel(\n",
    "    xls_filepath, \n",
    "    sheet_name='BMO_2024_open_data',\n",
    "    ) \n",
    "\n",
    "dataframes[ artifact.name ] = df\n",
    "\n",
    "df.head()\n"
   ]
  },
  {
   "cell_type": "code",
   "execution_count": 8,
   "id": "26f122f2-89aa-4c2c-a124-83dead75c61a",
   "metadata": {},
   "outputs": [],
   "source": [
    "from dotenv import dotenv_values\n",
    "import sqlalchemy\n",
    "\n",
    "# prepare db client\n",
    "vals = dotenv_values()\n",
    "\n",
    "conn_str = \"postgresql://{}:{}@{}:{}/{}\".format(\n",
    "    vals[\"PG_DB_USER\"],\n",
    "    vals[\"PG_DB_PWD\"],\n",
    "    vals[\"PG_DB_HOST\"],\n",
    "    vals[\"PG_DB_PORT\"],\n",
    "    vals[\"PG_DB_NAME\"]\n",
    ")\n",
    "\n",
    "dbengine = sqlalchemy.create_engine(conn_str)"
   ]
  },
  {
   "cell_type": "code",
   "execution_count": 9,
   "id": "8e43fb76",
   "metadata": {},
   "outputs": [],
   "source": [
    "# insert all to bronze\n",
    "# make the final table name lowercase to avoid issues in Postgre\n",
    "for name, dataframe in dataframes.items():\n",
    "    dataframe.to_sql(\n",
    "        name = f\"{model.table_name}_{name.lower()}\",\n",
    "        con = dbengine,\n",
    "        schema = 'bronze',\n",
    "        index = True,\n",
    "        if_exists = 'replace'\n",
    "    )\n"
   ]
  },
  {
   "cell_type": "code",
   "execution_count": null,
   "id": "ca8e6152",
   "metadata": {},
   "outputs": [],
   "source": []
  }
 ],
 "metadata": {
  "kernelspec": {
   "display_name": ".venv",
   "language": "python",
   "name": "python3"
  },
  "language_info": {
   "codemirror_mode": {
    "name": "ipython",
    "version": 3
   },
   "file_extension": ".py",
   "mimetype": "text/x-python",
   "name": "python",
   "nbconvert_exporter": "python",
   "pygments_lexer": "ipython3",
   "version": "3.12.9"
  }
 },
 "nbformat": 4,
 "nbformat_minor": 5
}
