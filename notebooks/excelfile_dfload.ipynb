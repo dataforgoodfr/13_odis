{
 "cells": [
  {
   "cell_type": "markdown",
   "metadata": {},
   "source": [
    "# Preprocessor Notebook : Excel\n",
    "\n",
    "Ce notebook traite un fichier Excel de façon assez générique : extrait la première feuille et la charge en couche Bronze.\n",
    "\n",
    " ### Paramètres\n",
    " Ce Notebook prend des paramètres en entrée, définis sur la toute première cellule (ci-dessus).\n",
    " La cellule a le tag \"parameters\" ce qui permet de lui passer des valeurs via papermill.\n",
    " - filepath : le chemin vers le fichier Excel à traiter\n",
    " - model_name : le nom du modèle source\n",
    "\n",
    " ### Principe\n",
    " La première feuille est chargée dans un dataFrame puis sauvegardée en .xlsx, et chargée en base de données Bronze."
   ]
  },
  {
   "cell_type": "markdown",
   "metadata": {},
   "source": [
    "## Initialisation\n",
    "\n",
    "Les cellules suivantes servent à importer les modules nécessaires et à préparer les variables communes utilisées dans les traitements."
   ]
  },
  {
   "cell_type": "code",
   "execution_count": null,
   "metadata": {},
   "outputs": [
    {
     "name": "stdout",
     "output_type": "stream",
     "text": [
      "changing to parent dir\n",
      "/Users/alex/dev/13_odis\n"
     ]
    }
   ],
   "source": [
    "# Baseline imports\n",
    "import pandas as pd\n",
    "import os\n",
    "import sys\n",
    "import datetime\n",
    "\n",
    "# Dirty trick to be able to import common odis modules, if the notebook is not executed from 13_odis\n",
    "current_dir = os.getcwd()\n",
    "parent_dir = os.path.dirname(os.getcwd())\n",
    "while not current_dir.endswith(\"13_odis\"):\n",
    "    print(\"changing to parent dir\")\n",
    "    os.chdir(parent_dir)\n",
    "    current_dir = parent_dir\n",
    "    parent_dir = os.path.dirname(current_dir)\n",
    "\n",
    "print(os.getcwd())\n",
    "sys.path.append(current_dir)"
   ]
  },
  {
   "cell_type": "code",
   "execution_count": 13,
   "metadata": {},
   "outputs": [],
   "source": [
    "# additional imports\n",
    "from common.config import load_config\n",
    "from common.data_source_model import DataSourceModel\n",
    "from common.utils.file_handler import FileHandler, XlsxReader\n",
    "from common.utils.interfaces.data_handler import OperationType\n",
    "from common.utils.interfaces.loader import Column"
   ]
  },
  {
   "cell_type": "markdown",
   "metadata": {},
   "source": [
    "## Paramètres du Notebook\n",
    "Paramètres pouvant être passés en input par papermill.\n",
    "\n",
    "Seuls des types built-in semblent marcher (str, int etc), les classes spécifiques ou les objets mutables (datetime...) semblent faire planter papermill.\n",
    "\n",
    "Doc officielle de papermill : parametrize [https://papermill.readthedocs.io/en/latest/usage-parameterize.html]"
   ]
  },
  {
   "cell_type": "code",
   "execution_count": 3,
   "metadata": {
    "tags": [
     "parameters"
    ]
   },
   "outputs": [],
   "source": [
    "# Define parameters for papermill. \n",
    "filepath = 'data/imports/geographical_references/geographical_references.intercommunalites_1.xlsx'\n",
    "model_name = \"geographical_references.intercommunalites\"\n"
   ]
  },
  {
   "cell_type": "code",
   "execution_count": 4,
   "metadata": {},
   "outputs": [],
   "source": [
    "# Initialize common variables\n",
    "dataframes = {}\n",
    "artifacts = []\n",
    "\n",
    "start_time = datetime.datetime.now(tz=datetime.timezone.utc)\n",
    "config = load_config(\"datasources.yaml\", response_model=DataSourceModel)\n",
    "model = config.get_model( model_name = model_name )\n",
    "# Instantiate File Handler for file loads and dumps\n",
    "handler = FileHandler()"
   ]
  },
  {
   "cell_type": "markdown",
   "metadata": {},
   "source": [
    "## Traitement des données\n",
    "A partir de là, on charge le fichier Excel dans Pandas et on traite les feuilles à récupérer, une par une"
   ]
  },
  {
   "cell_type": "code",
   "execution_count": 5,
   "metadata": {},
   "outputs": [
    {
     "name": "stdout",
     "output_type": "stream",
     "text": [
      "2025-08-11 10:18:59,857 - DEBUG :: file_handler.py :: load (58) :: loading: data/imports/geographical_references/geographical_references.intercommunalites_1.xlsx\n"
     ]
    }
   ],
   "source": [
    "# Load workbook to a dict of pandas dataframes\n",
    "dataframes = XlsxReader(filepath).load(model=model)"
   ]
  },
  {
   "cell_type": "code",
   "execution_count": 11,
   "metadata": {},
   "outputs": [
    {
     "name": "stdout",
     "output_type": "stream",
     "text": [
      "Dataframes names : dict_keys(['0'])\n"
     ]
    }
   ],
   "source": [
    "print(f'Dataframes names : {dataframes.keys()}')"
   ]
  },
  {
   "cell_type": "markdown",
   "metadata": {},
   "source": [
    "## Sauvegarde des métadonnées\n",
    "On sauvegarde les métadonnées du processus localement, pour garder l'historique et pouvoir reprendre après erreur si besoin"
   ]
  },
  {
   "cell_type": "code",
   "execution_count": 7,
   "metadata": {},
   "outputs": [
    {
     "name": "stdout",
     "output_type": "stream",
     "text": [
      "2025-08-11 10:34:24,032 - DEBUG :: file_handler.py :: dump (162) :: dumping: data/imports/geographical_references/geographical_references.intercommunalites_metadata_preprocess.json\n",
      "2025-08-11 10:34:24,041 - DEBUG :: file_handler.py :: file_dump (305) :: geographical_references.intercommunalites -> results saved to : 'data/imports/geographical_references/geographical_references.intercommunalites_metadata_preprocess.json'\n",
      "2025-08-11 10:34:24,043 - DEBUG :: file_handler.py :: dump_metadata (473) :: Metadata written in: 'data/imports/geographical_references/geographical_references.intercommunalites_metadata_preprocess.json'\n"
     ]
    }
   ],
   "source": [
    "for artifact in artifacts:\n",
    "    print(artifact.model_dump( mode = \"json\" ))\n",
    "\n",
    "preprocess_metadata = handler.dump_metadata(\n",
    "    model = model,\n",
    "    operation = OperationType.PREPROCESS,\n",
    "    start_time = start_time,\n",
    "    complete = True,\n",
    "    errors = 0,\n",
    "    artifacts = artifacts,\n",
    "    pages = []\n",
    ")"
   ]
  },
  {
   "cell_type": "markdown",
   "metadata": {},
   "source": [
    "## Chargement en couche Bronze\n",
    "On charge un engine SQLAchemy pour charger tous les datasets en base"
   ]
  },
  {
   "cell_type": "code",
   "execution_count": 8,
   "metadata": {},
   "outputs": [],
   "source": [
    "from dotenv import dotenv_values\n",
    "import sqlalchemy\n",
    "from sqlalchemy import text\n",
    "\n",
    "# prepare db client\n",
    "vals = dotenv_values()\n",
    "\n",
    "conn_str = \"postgresql://{}:{}@{}:{}/{}\".format(\n",
    "    vals[\"PG_DB_USER\"],\n",
    "    vals[\"PG_DB_PWD\"],\n",
    "    vals[\"PG_DB_HOST\"],\n",
    "    vals[\"PG_DB_PORT\"],\n",
    "    vals[\"PG_DB_NAME\"]\n",
    ")\n",
    "\n",
    "dbengine = sqlalchemy.create_engine(conn_str)"
   ]
  },
  {
   "cell_type": "code",
   "execution_count": 17,
   "metadata": {},
   "outputs": [],
   "source": [
    "def sanitize_columns(df: pd.DataFrame) -> pd.DataFrame:\n",
    "        \"\"\"\n",
    "        Sniff a dataframe to sanitize and deduplicate columns based on column name.\n",
    "        Deduplicates columns while preserving order,\n",
    "        after applying sanitization (accents, lowercase, etc).\n",
    "        \"\"\"\n",
    "\n",
    "        seen = set()\n",
    "        deduped_columns_map = {}\n",
    "        processed_df = df.copy()\n",
    "\n",
    "        for original_col in processed_df.columns:\n",
    "            try:\n",
    "                sanitized = Column(name=original_col).name\n",
    "            except Exception as e:\n",
    "                processed_df.drop(original_col)\n",
    "                print(f\"Skipping invalid column '{original_col}': {e}\")\n",
    "                continue\n",
    "\n",
    "            if sanitized not in seen:\n",
    "                seen.add(sanitized)\n",
    "                deduped_columns_map[original_col] = sanitized\n",
    "            else:\n",
    "                print(f\"Duplicate column after sanitation: '{sanitized}' (original: '{original_col}'). It will be dropped before loading.\")\n",
    "                processed_df.drop(original_col)\n",
    "\n",
    "        print(f\"Final deduplicated column map: {deduped_columns_map.items}\")\n",
    "\n",
    "        processed_df.rename(\n",
    "             columns = deduped_columns_map,\n",
    "             inplace = True\n",
    "        )\n",
    "\n",
    "        return processed_df"
   ]
  },
  {
   "cell_type": "code",
   "execution_count": 19,
   "metadata": {},
   "outputs": [
    {
     "name": "stdout",
     "output_type": "stream",
     "text": [
      "2025-08-11 11:16:05,973 - WARNING :: loader.py :: sanitize_name (64) :: Column name 'creation_amenagement_entretien_et_gestion_des_reseaux_de_chaleur_ou_de_froid_urbains' truncated to 63 characters\n",
      "2025-08-11 11:16:05,975 - WARNING :: loader.py :: sanitize_name (64) :: Column name 'creation_et_entretien_des_infrastructures_de_charge_necessaires_a_lusage_des_vehicules_electriques_ou_hybrides_rechargeables_en_application_de_larticle_l222437_du_cgct' truncated to 63 characters\n",
      "2025-08-11 11:16:05,975 - WARNING :: loader.py :: sanitize_name (64) :: Column name 'installation_dhydroelectricite_denergies_renouvelables_et_autres_installations_visees_a_larticle_l222432_du_cgct' truncated to 63 characters\n",
      "2025-08-11 11:16:05,975 - WARNING :: loader.py :: sanitize_name (64) :: Column name 'installation_de_production_delectricite_de_proximite_au_sens_de_larticle_l222433_du_cgct' truncated to 63 characters\n",
      "2025-08-11 11:16:05,976 - WARNING :: loader.py :: sanitize_name (64) :: Column name 'mise_en_place_dune_zone_a_faible_emissions_mobilite_zfem_l_221341_du_cgct' truncated to 63 characters\n",
      "2025-08-11 11:16:05,976 - WARNING :: loader.py :: sanitize_name (64) :: Column name 'gemapi__amenagement_dun_bassin_ou_dune_fraction_de_bassin_hydrographique_l_2117_1_du_code_de_lenvironnement' truncated to 63 characters\n",
      "2025-08-11 11:16:05,976 - WARNING :: loader.py :: sanitize_name (64) :: Column name 'gemapi__entretien_et_amenagement_dun_cours_deau_canal_lac_ou_plan_deau_l_2117_2_du_code_de_lenvironnement' truncated to 63 characters\n",
      "2025-08-11 11:16:05,976 - WARNING :: loader.py :: sanitize_name (64) :: Column name 'gemapi__defense_contre_les_inondations_et_contre_la_mer_l_2117_5_du_code_de_lenvironnement' truncated to 63 characters\n",
      "2025-08-11 11:16:05,977 - WARNING :: loader.py :: sanitize_name (64) :: Column name 'gemapi__protection_et_restauration_des_sites_des_ecosystemes_aquatiques_des_zones_humides_et_des_formations_boisees_riveraines_l_2117_8_du_code_de_lenvironnement' truncated to 63 characters\n",
      "2025-08-11 11:16:05,977 - WARNING :: loader.py :: sanitize_name (64) :: Column name 'maitrise_des_eaux_pluviales_et_de_ruissellement_ou_la_lutte_contre_lerosion_des_sols_l_2117_4_du_code_de_lenvironnement' truncated to 63 characters\n",
      "2025-08-11 11:16:05,977 - WARNING :: loader.py :: sanitize_name (64) :: Column name 'protection_et_la_conservation_des_eaux_superficielles_et_souterraines_l21177_du_code_de_lenvironnement' truncated to 63 characters\n",
      "2025-08-11 11:16:05,977 - WARNING :: loader.py :: sanitize_name (64) :: Column name 'amenagements_hydrauliques_concourant_a_la_securite_civile_l_2117_9_du_code_de_lenvironnement' truncated to 63 characters\n",
      "2025-08-11 11:16:05,978 - WARNING :: loader.py :: sanitize_name (64) :: Column name 'exploitation_entretien_et_amenagement_douvrages_hydrauliques_existants_l_2117_10_du_code_de_lenvironnement' truncated to 63 characters\n",
      "2025-08-11 11:16:05,978 - WARNING :: loader.py :: sanitize_name (64) :: Column name 'mise_en_place_et_exploitation_de_dispositifs_de_surveillance_de_la_ressource_en_eau_et_des_milieux_aquatiques_l_2117_11__du_code_de_lenvironnement' truncated to 63 characters\n",
      "2025-08-11 11:16:05,978 - WARNING :: loader.py :: sanitize_name (64) :: Column name 'animation_et_concertation_dans_les_domaines_de_la_prevention_du_risque_dinondation_ainsi_que_de_la_gestion_et_de_la_protection_de_la_ressource_en_eau_et_des_milieux_aquatiques_dans_un_sousbassin_ou_un_groupement_de_sousbassins_ou_dans_un_systeme_aquifere_correspondant_a_une_unite_hydrographique_l211712_du_code_de_lenvironnement' truncated to 63 characters\n",
      "2025-08-11 11:16:05,978 - WARNING :: loader.py :: sanitize_name (64) :: Column name 'autorite_concessionnaire_de_letat_pour_les_plages_dans_les_conditions_prevues_a_larticle_l_21244_du_code_general_de_la_propriete_des_personnes_publiques' truncated to 63 characters\n",
      "2025-08-11 11:16:05,979 - WARNING :: loader.py :: sanitize_name (64) :: Column name 'elaboration_et_adoption_du_plan_climatairenergie_territorial_en_application_de_larticle_l_22926_du_code_de_lenvironnement' truncated to 63 characters\n",
      "2025-08-11 11:16:05,979 - WARNING :: loader.py :: sanitize_name (64) :: Column name 'exercice_de_la_competence_collecte_des_dechets_menagers_et_assimiles' truncated to 63 characters\n",
      "2025-08-11 11:16:05,980 - WARNING :: loader.py :: sanitize_name (64) :: Column name 'exercice_de_la_competence_traitement_des_dechets_menagers_et_assimiles' truncated to 63 characters\n",
      "2025-08-11 11:16:05,980 - WARNING :: loader.py :: sanitize_name (64) :: Column name 'creation_gestion_extension_et_translation_des_cimetieres_et_sites_cineraires' truncated to 63 characters\n",
      "2025-08-11 11:16:05,980 - WARNING :: loader.py :: sanitize_name (64) :: Column name 'adoption_adaptation_et_mise_en_oeuvre_du_programme_departemental_dinsertion' truncated to 63 characters\n",
      "2025-08-11 11:16:05,980 - WARNING :: loader.py :: sanitize_name (64) :: Column name 'action_departementale_de_prevention_specialisee_aupres_des_jeunes_et_des_familles_en_difficulte_ou_en_rupture_avec_leur_milieu' truncated to 63 characters\n",
      "2025-08-11 11:16:05,981 - WARNING :: loader.py :: sanitize_name (64) :: Column name 'elaboration_du_diagnostic_du_territoire_et_definition_des_orientations_du_contrat_de_ville_animation_et_coordination_des_dispositifs_contractuels_de_developpement_urbain_de_developpement_local_et_dinsertion_economique_et_sociale_ainsi_que_des_dispositifs_locaux_de_prevention_de_la_delinquance__programmes_dactions_definis_dans_le_contrat_de_ville' truncated to 63 characters\n",
      "2025-08-11 11:16:05,981 - WARNING :: loader.py :: sanitize_name (64) :: Column name 'actions_de_developpement_economique_dans_les_conditions_prevues_a_larticle_l_425117__politique_locale_du_commerce_et_soutien_aux_activites_commerciales' truncated to 63 characters\n",
      "2025-08-11 11:16:05,982 - WARNING :: loader.py :: sanitize_name (64) :: Column name 'creation_amenagement_entretien_et_gestion_de_zones_dactivite_industrielle_commerciale_tertiaire_artisanale_touristique_portuaire_ou_aeroportuaire' truncated to 63 characters\n",
      "2025-08-11 11:16:05,982 - WARNING :: loader.py :: sanitize_name (64) :: Column name 'competences_de_la_region_en_matiere_de_developpement_economique_en_application_des_articles_l_42111_et_l_42531_a_l42533' truncated to 63 characters\n",
      "2025-08-11 11:16:05,983 - WARNING :: loader.py :: sanitize_name (64) :: Column name 'promotion_du_tourisme_dont_la_creation_doffices_de_tourisme_et_animation_touristique' truncated to 63 characters\n",
      "2025-08-11 11:16:05,983 - WARNING :: loader.py :: sanitize_name (64) :: Column name 'organisation_dun_service_de_remontees_mecaniques_au_sens_de_larticle_l_3429_du_code_du_tourisme' truncated to 63 characters\n",
      "2025-08-11 11:16:05,983 - WARNING :: loader.py :: sanitize_name (64) :: Column name 'construction_amenagement_entretien_et_fonctionnement_dequipements_culturels_et_sportifs' truncated to 63 characters\n",
      "2025-08-11 11:16:05,984 - WARNING :: loader.py :: sanitize_name (64) :: Column name 'competences_du_departement_en_matiere_de_culture_construction_exploitation_et_entretien_des_equipements_et_infrastructures_destines_a_la_pratique_du_sport' truncated to 63 characters\n",
      "2025-08-11 11:16:05,984 - WARNING :: loader.py :: sanitize_name (64) :: Column name 'construction_entretien_et_fonctionnement_dequipements_de_lenseignement_preelementaire_et_elementaire' truncated to 63 characters\n",
      "2025-08-11 11:16:05,984 - WARNING :: loader.py :: sanitize_name (64) :: Column name 'activites_periscolaires_activites_culturelles_sportives_artistiques_complementaires_aux_enseignements_scolaires' truncated to 63 characters\n",
      "2025-08-11 11:16:05,985 - WARNING :: loader.py :: sanitize_name (64) :: Column name 'construction_reconstruction_amenagement_entretien_et_fonctionnement_des_lycees_accueil_restauration_hebergement_entretien_general_et_technique' truncated to 63 characters\n",
      "2025-08-11 11:16:05,985 - WARNING :: loader.py :: sanitize_name (64) :: Column name 'construction_reconstruction_amenagement_entretien_et_fonctionnement_des_colleges_accueil_restauration_hebergement_entretien_general_et_technique' truncated to 63 characters\n",
      "2025-08-11 11:16:05,985 - WARNING :: loader.py :: sanitize_name (64) :: Column name 'programme_de_soutien_et_daides_aux_etablissements_denseignement_superieur_et_de_recherche_et_aux_programmes_de_recherche' truncated to 63 characters\n",
      "2025-08-11 11:16:05,986 - WARNING :: loader.py :: sanitize_name (64) :: Column name 'schema_de_coherence_territoriale_scot_art_l_14316_code_de_lurbanisme' truncated to 63 characters\n",
      "2025-08-11 11:16:05,986 - WARNING :: loader.py :: sanitize_name (64) :: Column name 'plan_local_durbanisme_et_document_durbanisme_en_tenant_lieu_art_l_1531_du_code_de_lurbanisme' truncated to 63 characters\n",
      "2025-08-11 11:16:05,986 - WARNING :: loader.py :: sanitize_name (64) :: Column name 'definition_creation_et_realisation_doperations_damenagement_dinteret_communautaire_au_sens_de_larticle_l3001_du_code_de_lurbanisme_les_zac_entrent_dans_cette_categorie' truncated to 63 characters\n",
      "2025-08-11 11:16:05,986 - WARNING :: loader.py :: sanitize_name (64) :: Column name 'constitution_de_reserves_foncieres_articles_l2101_et_l2211_du_code_de_lurbanisme' truncated to 63 characters\n",
      "2025-08-11 11:16:05,987 - WARNING :: loader.py :: sanitize_name (64) :: Column name 'delivrance_des_autorisations_doccupation_du_sol_permis_de_construire_article_l4223_du_code_de_lurbanisme' truncated to 63 characters\n",
      "2025-08-11 11:16:05,987 - WARNING :: loader.py :: sanitize_name (64) :: Column name 'instruction_des_autorisations_doccupation_du_sol_article_l4231_et_articles_r42314_et_suivants_du_code_de_lurbanisme' truncated to 63 characters\n",
      "2025-08-11 11:16:05,987 - WARNING :: loader.py :: sanitize_name (64) :: Column name 'organisation_de_services_reguliers__a_la_demande_de_transports_publics_de_personnes_des_services_de_mobilite_solidaire_organisation_ou_contribution_au_developpement_des_services_relatifs_aux_mobilites_actives_definies_a_larticle_l_12711_du_code_des_transports_organisation_ou_contribution_au_developpement_des_services_relatifs_aux_usages_partages_des_vehicules_terrestres_a_moteur' truncated to 63 characters\n",
      "2025-08-11 11:16:05,988 - WARNING :: loader.py :: sanitize_name (64) :: Column name 'gestion_de_ports_de_plaisance_ou_de_ports_maritimes_de_commerce_l_53144_du_code_des_transports' truncated to 63 characters\n",
      "2025-08-11 11:16:05,988 - WARNING :: loader.py :: sanitize_name (64) :: Column name 'exploitation_daerodrome_dont_organisation_de_services_aeriens_de_transport_public_l_63212_du_code_des_transports' truncated to 63 characters\n",
      "2025-08-11 11:16:05,988 - WARNING :: loader.py :: sanitize_name (64) :: Column name 'participation_a_la_gouvernance_et_a_lamenagement_des_gares_situees_sur_le_territoire_metropolitain' truncated to 63 characters\n",
      "2025-08-11 11:16:05,988 - WARNING :: loader.py :: sanitize_name (64) :: Column name 'signalisation_abris_de_voyageurs_parcs_et_aires_de_stationnement' truncated to 63 characters\n",
      "2025-08-11 11:16:05,989 - WARNING :: loader.py :: sanitize_name (64) :: Column name 'conseil_et_accompagnement_individualise_a_la_mobilite_destine_aux_personnes_se_trouvant_en_situation_de_vulnerabilite_economique_ou_sociale_ainsi_qua_celles_en_situation_de_handicap_ou_dont_la_mobilite_est_reduite' truncated to 63 characters\n",
      "2025-08-11 11:16:05,989 - WARNING :: loader.py :: sanitize_name (64) :: Column name 'conseil_en_mobilite_destine_aux_employeurs_et_aux_gestionnaires_dactivites_generant_des_flux_de_deplacements_importants' truncated to 63 characters\n",
      "2025-08-11 11:16:05,989 - WARNING :: loader.py :: sanitize_name (64) :: Column name 'organisation_ou_contribution_au_developpement_des_services_de_transport_de_marchandises_et_de_logistique_urbaine' truncated to 63 characters\n",
      "2025-08-11 11:16:05,989 - WARNING :: loader.py :: sanitize_name (64) :: Column name 'delegation_des_aides_a_la_pierre__competences_insecables_iv_artl30151_cch__etat' truncated to 63 characters\n",
      "2025-08-11 11:16:05,990 - WARNING :: loader.py :: sanitize_name (64) :: Column name 'delegation_des_aides_a_la_pierre__competences_secables_v_artl30151_cch__etat' truncated to 63 characters\n",
      "2025-08-11 11:16:05,990 - WARNING :: loader.py :: sanitize_name (64) :: Column name 'amenagement_entretien_et_gestion_des_aires_daccueil_des_gens_du_voyage_et_des_terrains_familiaux_locatifs' truncated to 63 characters\n",
      "2025-08-11 11:16:05,990 - WARNING :: loader.py :: sanitize_name (64) :: Column name 'preparation_et_realisation_des_enquetes_de_recensement_de_la_population' truncated to 63 characters\n",
      "2025-08-11 11:16:05,990 - WARNING :: loader.py :: sanitize_name (64) :: Column name 'centre_de_premiere_intervention_des_services_locaux_dincendie_et_de_secours_l_1424364' truncated to 63 characters\n",
      "2025-08-11 11:16:05,991 - WARNING :: loader.py :: sanitize_name (64) :: Column name 'reseaux_et_services_locaux_de_communications_electroniques_dinitiative_publique_au_sens_de_larticle_l_14251_cgct' truncated to 63 characters\n",
      "Final deduplicated column map: <built-in method items of dict object at 0x17a3d4740>\n",
      "DataFrame columns after deduplication: ['departement', 'arrondissement_siege', 'commune_siege', 'n_siren', 'nom_du_groupement', 'nature_juridique', 'mode_de_financement', 'mode_de_repartition_des_sieges', 'autre_mode_de_repartition_des_sieges', 'date_de_creation', 'date_deffet', 'syndicat_a_la_carte', 'groupement_interdepartemental', 'zone_de_montagne', 'epage', 'eptb', 'numero_et_libelle_de_la_voie_du_siege', 'complement_dadresse_du_siege', 'distribution_speciale_du_siege', 'code_postal_du_siege', 'ville_du_siege', 'telephone_du_siege', 'courriel_du_siege', 'site_internet_du_siege', 'numero_et_libelle_de_la_voie_administrative', 'complement_dadresse_administrative', 'distribution_speciale_administrative', 'code_postal_administrative', 'ville_administrative', 'telephone_administrative', 'teom', 'reom', 'dotation_globale', 'dotation_de_compensation', 'dotation_dintercommunalite', 'dotation_des_groupements_touristiques', 'population_dgf', 'dgf_par_habitant', 'potentiel_fiscal', 'population_totale', 'densite_demographique_habkm2', 'civilite_president', 'nom_president', 'prenom_president', 'nombre_de_membres', 'nombre_total_des_delegues', 'siren_membre', 'nom_membre', 'categorie_des_membres_du_groupement', 'population_totale_du_membre_du_groupement', 'nombre_de_competences_exercees', 'concession_de_la_distribution_publique_delectricite', 'concession_de_la_distribution_publique_de_gaz', 'r_ou_de_froid_urbains', 'soutien_aux_actions_de_maitrise_denergie', '_a_lusage_des_vehicules_electriques_ou_hybrides_rechargeables_en_application_de_larticle_l222437_du_cgct', 'eclairage_public', 's_installations_visees_a_larticle_l222432_du_cgct', '_larticle_l222433_du_cgct', 'contribution_a_la_transition_energetique', 'eau_production_traitement_stockage_transport_distribution', 'assainissement_collectif_des_eaux_usees', 'assainissement_non_collectif_des_eaux_usees', 'gestion_des_eaux_pluviales_urbaines', '41_du_cgct', 'graphique_l_2117_1_du_code_de_lenvironnement', 'an_deau_l_2117_2_du_code_de_lenvironnement', '5_du_code_de_lenvironnement', 'uatiques_des_zones_humides_et_des_formations_boisees_riveraines_l_2117_8_du_code_de_lenvironnement', 'approvisionnement_en_eau_l_21173_du_code_de_lenvironnement', 'tre_lerosion_des_sols_l_2117_4_du_code_de_lenvironnement', 'lutte_contre_la_pollution_l21176_du_code_de_lenvironnement', 'raines_l21177_du_code_de_lenvironnement', '7_9_du_code_de_lenvironnement', 'istants_l_2117_10_du_code_de_lenvironnement', '_la_ressource_en_eau_et_des_milieux_aquatiques_l_2117_11__du_code_de_lenvironnement', '_risque_dinondation_ainsi_que_de_la_gestion_et_de_la_protection_de_la_ressource_en_eau_et_des_milieux_aquatiques_dans_un_sousbassin_ou_un_groupement_de_sousbassins_ou_dans_un_systeme_aquifere_correspondant_a_une_unite_hydrographique_l211712_du_code_de_lenvironnement', 'amenagement_et_gestion_dun_parc_naturel_regional', 'itions_prevues_a_larticle_l_21244_du_code_general_de_la_propriete_des_personnes_publiques', '_application_de_larticle_l_22926_du_code_de_lenvironnement', 'miles', 'similes', 'lutte_contre_les_nuisances_sonores', 'lutte_contre_la_pollution_de_lair', 'reglement_local_de_publicite', 'es_cineraires', 'creation_gestion_et_extension_des_crematoriums', 'service_exterieur_de_pompes_funebres_l_222319_du_cgct', 'activites_sanitaires', 'maisons_de_sante_pluridisciplinaires', 'accueil_du_jeune_enfant__creches', 'accueil_du_jeune_enfant__relais_petite_enfance', 'accueil_du_jeune_enfant__maisons_dassistants_maternels', 'centre_intercommunal_daction_sociale', 'aide_sociale', 'action_sociale_communale', 'action_sociale_departementale', 'l_dinsertion', 'aide_departementale_aux_jeunes_en_difficulte', 'es_et_des_familles_en_difficulte_ou_en_rupture_avec_leur_milieu', 'action_departementale_personnes_agees', 'tations_du_contrat_de_ville_animation_et_coordination_des_dispositifs_contractuels_de_developpement_urbain_de_developpement_local_et_dinsertion_economique_et_sociale_ainsi_que_des_dispositifs_locaux_de_prevention_de_la_delinquance__programmes_dactions_definis_dans_le_contrat_de_ville', '_a_larticle_l_425117__politique_locale_du_commerce_et_soutien_aux_activites_commerciales', 'dustrielle_commerciale_tertiaire_artisanale_touristique_portuaire_ou_aeroportuaire', '_en_application_des_articles_l_42111_et_l_42531_a_l42533', 'animation_touristique', 'competences_touristiques_du_departement', 'gestion_des_equipements_touristiques', 'ticle_l_3429_du_code_du_tourisme', 'thermalisme', 'ts_culturels_et_sportifs', 'xploitation_et_entretien_des_equipements_et_infrastructures_destines_a_la_pratique_du_sport', 'gnement_preelementaire_et_elementaire', 'ques_complementaires_aux_enseignements_scolaires', 'ment_des_lycees_accueil_restauration_hebergement_entretien_general_et_technique', 'ment_des_colleges_accueil_restauration_hebergement_entretien_general_et_technique', '_superieur_et_de_recherche_et_aux_programmes_de_recherche', 'activites_culturelles_ou_socioculturelles', 'activites_sportives', 'restauration_scolaire', 'garderie_periscolaire', 'nisme', 'schema_de_secteur_art_l_1731_du_code_de_lurbanisme', '_l_1531_du_code_de_lurbanisme', 'teret_communautaire_au_sens_de_larticle_l3001_du_code_de_lurbanisme_les_zac_entrent_dans_cette_categorie', 'ode_de_lurbanisme', 'droit_de_preemption_urbain_article_l2112_du_code_de_lurbanisme', 'ruire_article_l4223_du_code_de_lurbanisme', 'actions_de_valorisation_du_patrimoine_naturel_et_paysager', 'et_articles_r42314_et_suivants_du_code_de_lurbanisme', 'publics_de_personnes_des_services_de_mobilite_solidaire_organisation_ou_contribution_au_developpement_des_services_relatifs_aux_mobilites_actives_definies_a_larticle_l_12711_du_code_des_transports_organisation_ou_contribution_au_developpement_des_services_relatifs_aux_usages_partages_des_vehicules_terrestres_a_moteur', 'organisation_de_transports_scolaires', 'transports_publics_non_urbains_l_31111_du_code_des_transports', '_l_53144_du_code_des_transports', 'e_transport_public_l_63212_du_code_des_transports', 'ees_sur_le_territoire_metropolitain', 'voies_navigables_d_43143_du_code_des_transports', 'mise_en_place_ditineraires_cyclables', 'creation_amenagement_entretien_de_la_voirie_communale', 't', 'ux_personnes_se_trouvant_en_situation_de_vulnerabilite_economique_ou_sociale_ainsi_qua_celles_en_situation_de_handicap_ou_dont_la_mobilite_est_reduite', '_dactivites_generant_des_flux_de_deplacements_importants', 'ransport_de_marchandises_et_de_logistique_urbaine', 'plans_de_mobilite', 'competences_departementales_en_matieres_de_voirie', 'programme_local_de_lhabitat', 'action_et_aide_financiere_en_faveur_du_logement_social', 'action_en_faveur_du_logement_des_personnes_defavorisees', 'operation_programmee_damelioration_de_lhabitat_opah', 'amelioration_du_parc_immobilier_bati', 'actions_de_rehabilitation_et_resorption_de_lhabitat_insalubre', 'l30151_cch__etat', '151_cch__etat', '_voyage_et_des_terrains_familiaux_locatifs', 'abattoirs_publics', 'marches_dinteret_national_halles_foires_et_marches', 'contributions_pour_le_financement_du_sdis', 'pulation', 't_de_secours_l_1424364', 'service_public_de_defense_exterieure_contre_lincendie', 'tiative_publique_au_sens_de_larticle_l_14251_cgct', 'maison_france_services', 'archeologie_preventive', 'systeme_dinformation_geographique', 'plan_de_mise_en_accessibilite', 'entretien_des_batiments_et_espaces_publics', 'gestion_des_sentiers_de_randonnee', 'projet_alimentaire_territorial', 'lutte_contre_les_nuisibles', 'fourriere_automobile', 'fourriere_animale', 'autres', 'adhesion_siren', 'adhesion_nom', 'adhesion_population']\n",
      "Dropping if exists: geographical_references_intercommunalites\n",
      "Inserting DataFrame geographical_references_intercommunalites\n"
     ]
    }
   ],
   "source": [
    "# insert all to bronze\n",
    "# make the final table name lowercase to avoid issues in Postgre\n",
    "\n",
    "for name, dataframe in dataframes.items():\n",
    "\n",
    "    # sanitize the dataframe\n",
    "    clean_dataframe = sanitize_columns(dataframe)\n",
    "\n",
    "    print(f\"DataFrame columns after deduplication: {list(clean_dataframe.columns)}\")\n",
    "\n",
    "    subtable_name = model.table_name if name==\"0\" else f\"{model.table_name}_{name.lower()}\"\n",
    "    query_str = f\"DROP TABLE IF EXISTS bronze.{subtable_name} CASCADE\"\n",
    "\n",
    "    # dropping existing table with cascade\n",
    "    with dbengine.connect() as con:\n",
    "        print(f\"Dropping if exists: {subtable_name}\")\n",
    "        result = con.execute(text(query_str))\n",
    "        con.commit()\n",
    "\n",
    "    print(f\"Inserting DataFrame {subtable_name}\")\n",
    "    clean_dataframe.to_sql(\n",
    "        name = subtable_name,\n",
    "        con = dbengine,\n",
    "        schema = 'bronze',\n",
    "        index = True,\n",
    "        if_exists = 'replace'\n",
    "    )\n"
   ]
  },
  {
   "cell_type": "code",
   "execution_count": null,
   "metadata": {},
   "outputs": [],
   "source": []
  }
 ],
 "metadata": {
  "kernelspec": {
   "display_name": ".venv",
   "language": "python",
   "name": "python3"
  },
  "language_info": {
   "codemirror_mode": {
    "name": "ipython",
    "version": 3
   },
   "file_extension": ".py",
   "mimetype": "text/x-python",
   "name": "python",
   "nbconvert_exporter": "python",
   "pygments_lexer": "ipython3",
   "version": "3.12.9"
  }
 },
 "nbformat": 4,
 "nbformat_minor": 2
}
