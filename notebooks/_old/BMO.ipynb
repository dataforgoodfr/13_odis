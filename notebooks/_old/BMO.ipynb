{
 "cells": [
  {
   "cell_type": "code",
   "execution_count": 1,
   "id": "1b5ebbd6-1ec4-4e45-8890-1155ea52684c",
   "metadata": {},
   "outputs": [
    {
     "name": "stdout",
     "output_type": "stream",
     "text": [
      "Zipped content len: 3244.393 Kb\n",
      "File Name                                             Modified             Size\n",
      "Donnees_consolidees_2024/                      2024-04-25 15:30:16            0\n",
      "Donnees_consolidees_2024/Base_open_data_BMO_2024.xlsx 2024-04-25 15:28:28      3491167\n"
     ]
    }
   ],
   "source": [
    "import requests\n",
    "from zipfile import ZipFile \n",
    "from io import BytesIO\n",
    "\n",
    "\n",
    "resp = requests.get('https://www.data.gouv.fr/fr/datasets/r/4319f5e8-a8e6-476c-8da0-c0d3439ebb55')\n",
    "\n",
    "resp.raise_for_status()\n",
    "\n",
    "# the response is a zipfile\n",
    "zipped_content =  BytesIO(resp.content)\n",
    "\n",
    "print(f\"Zipped content len: {len(zipped_content.getvalue())/1000} Kb\") \n",
    "\n",
    "# unzip\n",
    "\n",
    "with ZipFile(zipped_content) as zip_archive:\n",
    "    zip_archive.printdir() \n",
    "    zip_archive.extractall()\n",
    "\n",
    "\n"
   ]
  },
  {
   "cell_type": "code",
   "execution_count": null,
   "id": "7e35462b-bcc3-4f98-84d7-f71e8cb7873f",
   "metadata": {},
   "outputs": [],
   "source": [
    "import os\n",
    "import pandas as pd\n",
    "\n",
    "# take the 1st xslx in the 1st directory \n",
    "for d in os.scandir('.'):\n",
    "    if d.is_dir():\n",
    "        \n",
    "        for f in os.scandir(d.path):\n",
    "            if f.is_file() and f.name.endswith('.xlsx'):\n",
    "                print(f\"Analyzing {f.path}\")\n",
    "                df = pd.read_excel(open(f.path, 'rb'), sheet_name='BMO_2024_open_data') \n",
    "                print(df)\n",
    "\n",
    "                # Now store xslx on S3 or use the DF to load into the bronze Schema ?\n",
    "            "
   ]
  },
  {
   "cell_type": "code",
   "execution_count": null,
   "id": "26f122f2-89aa-4c2c-a124-83dead75c61a",
   "metadata": {},
   "outputs": [],
   "source": []
  }
 ],
 "metadata": {
  "kernelspec": {
   "display_name": ".venv",
   "language": "python",
   "name": "python3"
  },
  "language_info": {
   "codemirror_mode": {
    "name": "ipython",
    "version": 3
   },
   "file_extension": ".py",
   "mimetype": "text/x-python",
   "name": "python",
   "nbconvert_exporter": "python",
   "pygments_lexer": "ipython3",
   "version": "3.12.9"
  }
 },
 "nbformat": 4,
 "nbformat_minor": 5
}
