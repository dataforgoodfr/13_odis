{
 "cells": [
  {
   "cell_type": "markdown",
   "id": "a6bee5c2",
   "metadata": {
    "papermill": {
     "duration": 0.005721,
     "end_time": "2025-04-08T20:53:18.740712",
     "exception": false,
     "start_time": "2025-04-08T20:53:18.734991",
     "status": "completed"
    },
    "tags": []
   },
   "source": [
    "# Preprocessor Notebook : Logements Sociaux, fichier RPLS annuel\n",
    "\n",
    "Ce notebook traite le fichier Excel du RPLS annuel : données sur les logements sociaux.\n",
    "Le but est de récupérer les datasets suivants, à partir du fichier XSLX téléchargé depuis le site du ministère du Développement Durable :\n",
    " - Données par régions\n",
    " - Données par départements\n",
    " - Données par EPCI\n",
    " - Données par communes\n",
    "\n",
    " ### Paramètres\n",
    " Ce Notebook prend des paramètres en entrée, définis sur la toute première cellule (ci-dessus).\n",
    " La cellule a le tag \"parameters\" ce qui permet de lui passer des valeurs via papermill.\n",
    " - filepath : le chemin vers le fichier Excel à traiter\n",
    " - model_name : le nom du modèle source\n",
    "\n",
    " ### Principe\n",
    " Ce notebook extrait 4 feuilles du fichier Excel d'entrée : region, departement, epci, communes. \n",
    " Chaque feuille est chargée dans un dataFrame puis sauvegardée en .xlsx, et chargée en base de données Bronze.\n",
    " Peu de retraitement sur ces dataFrames, seul le tableau \"departement\" a besoin de renommer une colonne."
   ]
  },
  {
   "cell_type": "markdown",
   "id": "814ea2a1",
   "metadata": {
    "papermill": {
     "duration": 0.001244,
     "end_time": "2025-04-08T20:53:18.744771",
     "exception": false,
     "start_time": "2025-04-08T20:53:18.743527",
     "status": "completed"
    },
    "tags": []
   },
   "source": [
    "## Initialisation\n",
    "\n",
    "Les cellules suivantes servent à importer les modules nécessaires et à préparer les variables communes utilisées dans les traitements."
   ]
  },
  {
   "cell_type": "code",
   "execution_count": 1,
   "id": "ae2eb051",
   "metadata": {
    "execution": {
     "iopub.execute_input": "2025-04-08T20:53:18.748738Z",
     "iopub.status.busy": "2025-04-08T20:53:18.748597Z",
     "iopub.status.idle": "2025-04-08T20:53:19.062848Z",
     "shell.execute_reply": "2025-04-08T20:53:19.062555Z"
    },
    "papermill": {
     "duration": 0.317699,
     "end_time": "2025-04-08T20:53:19.063678",
     "exception": false,
     "start_time": "2025-04-08T20:53:18.745979",
     "status": "completed"
    },
    "tags": []
   },
   "outputs": [
    {
     "name": "stdout",
     "output_type": "stream",
     "text": [
      "/Users/alex/dev/13_odis\n"
     ]
    }
   ],
   "source": [
    "# Baseline imports\n",
    "import pandas as pd\n",
    "import os\n",
    "import sys\n",
    "import datetime\n",
    "from dotenv import dotenv_values\n",
    "import sqlalchemy\n",
    "\n",
    "# Dirty trick to be able to import common odis modules, if the notebook is not executed from 13_odis\n",
    "current_dir = os.getcwd()\n",
    "parent_dir = os.path.dirname(os.getcwd())\n",
    "while not current_dir.endswith(\"13_odis\"):\n",
    "    print(\"changing to parent dir\")\n",
    "    os.chdir(parent_dir)\n",
    "    current_dir = parent_dir\n",
    "    parent_dir = os.path.dirname(current_dir)\n",
    "\n",
    "print(os.getcwd())\n",
    "sys.path.append(current_dir)"
   ]
  },
  {
   "cell_type": "code",
   "execution_count": 2,
   "id": "36f3264b",
   "metadata": {
    "execution": {
     "iopub.execute_input": "2025-04-08T20:53:19.067461Z",
     "iopub.status.busy": "2025-04-08T20:53:19.067198Z",
     "iopub.status.idle": "2025-04-08T20:53:19.181106Z",
     "shell.execute_reply": "2025-04-08T20:53:19.180845Z"
    },
    "papermill": {
     "duration": 0.116596,
     "end_time": "2025-04-08T20:53:19.181976",
     "exception": false,
     "start_time": "2025-04-08T20:53:19.065380",
     "status": "completed"
    },
    "tags": []
   },
   "outputs": [],
   "source": [
    "# additional imports\n",
    "from common.config import load_config\n",
    "from common.data_source_model import DataSourceModel\n",
    "from common.utils.file_handler import FileHandler\n",
    "from common.utils.interfaces.data_handler import OperationType"
   ]
  },
  {
   "cell_type": "markdown",
   "id": "75108b23",
   "metadata": {
    "papermill": {
     "duration": 0.001637,
     "end_time": "2025-04-08T20:53:19.185522",
     "exception": false,
     "start_time": "2025-04-08T20:53:19.183885",
     "status": "completed"
    },
    "tags": []
   },
   "source": [
    "## Paramètres du Notebook\n",
    "Paramètres pouvant être passés en input par papermill.\n",
    "\n",
    "Seuls des types built-in semblent marcher (str, int etc), les classes spécifiques ou les objets mutables (datetime...) semblent faire planter papermill.\n",
    "\n",
    "Doc officielle de papermill : parametrize [https://papermill.readthedocs.io/en/latest/usage-parameterize.html]"
   ]
  },
  {
   "cell_type": "code",
   "execution_count": 3,
   "id": "68d284d6",
   "metadata": {
    "execution": {
     "iopub.execute_input": "2025-04-08T20:53:19.189342Z",
     "iopub.status.busy": "2025-04-08T20:53:19.189218Z",
     "iopub.status.idle": "2025-04-08T20:53:19.191590Z",
     "shell.execute_reply": "2025-04-08T20:53:19.191217Z"
    },
    "papermill": {
     "duration": 0.005265,
     "end_time": "2025-04-08T20:53:19.192505",
     "exception": false,
     "start_time": "2025-04-08T20:53:19.187240",
     "status": "completed"
    },
    "tags": [
     "parameters"
    ]
   },
   "outputs": [],
   "source": [
    "# Define parameters for papermill. \n",
    "filepath = 'data/imports/logement/logement.logements_sociaux_1.xlsx'\n",
    "model_name = \"logement.logements_sociaux\"\n"
   ]
  },
  {
   "cell_type": "code",
   "execution_count": 4,
   "id": "e467ee9d",
   "metadata": {
    "execution": {
     "iopub.execute_input": "2025-04-08T20:53:19.199268Z",
     "iopub.status.busy": "2025-04-08T20:53:19.199030Z",
     "iopub.status.idle": "2025-04-08T20:53:19.202043Z",
     "shell.execute_reply": "2025-04-08T20:53:19.201347Z"
    },
    "papermill": {
     "duration": 0.009436,
     "end_time": "2025-04-08T20:53:19.204006",
     "exception": false,
     "start_time": "2025-04-08T20:53:19.194570",
     "status": "completed"
    },
    "tags": [
     "injected-parameters"
    ]
   },
   "outputs": [],
   "source": [
    "# Parameters\n",
    "filepath = \"data/imports/logement/logement.logements_sociaux_1.xlsx\"\n",
    "model_name = \"logement.logements_sociaux\"\n"
   ]
  },
  {
   "cell_type": "code",
   "execution_count": 5,
   "id": "5a41384a",
   "metadata": {
    "execution": {
     "iopub.execute_input": "2025-04-08T20:53:19.215040Z",
     "iopub.status.busy": "2025-04-08T20:53:19.214859Z",
     "iopub.status.idle": "2025-04-08T20:53:19.236176Z",
     "shell.execute_reply": "2025-04-08T20:53:19.235705Z"
    },
    "papermill": {
     "duration": 0.031656,
     "end_time": "2025-04-08T20:53:19.237835",
     "exception": false,
     "start_time": "2025-04-08T20:53:19.206179",
     "status": "completed"
    },
    "tags": []
   },
   "outputs": [],
   "source": [
    "# Initialize common variables\n",
    "dataframes = {}\n",
    "artifacts = []\n",
    "\n",
    "start_time = datetime.datetime.now(tz=datetime.timezone.utc)\n",
    "config = load_config(\"datasources.yaml\", response_model=DataSourceModel)\n",
    "model = config.get_model( model_name = model_name )\n",
    "# Instantiate File Handler for file loads and dumps\n",
    "handler = FileHandler()"
   ]
  },
  {
   "cell_type": "markdown",
   "id": "0acbe75f",
   "metadata": {
    "papermill": {
     "duration": 0.002164,
     "end_time": "2025-04-08T20:53:19.242724",
     "exception": false,
     "start_time": "2025-04-08T20:53:19.240560",
     "status": "completed"
    },
    "tags": []
   },
   "source": [
    "## Traitement des données\n",
    "A partir de là, on charge le fichier Excel dans Pandas et on traite les feuilles à récupérer, une par une"
   ]
  },
  {
   "cell_type": "code",
   "execution_count": 6,
   "id": "db07f108",
   "metadata": {
    "execution": {
     "iopub.execute_input": "2025-04-08T20:53:19.247157Z",
     "iopub.status.busy": "2025-04-08T20:53:19.247015Z",
     "iopub.status.idle": "2025-04-08T20:53:19.583640Z",
     "shell.execute_reply": "2025-04-08T20:53:19.583362Z"
    },
    "papermill": {
     "duration": 0.340291,
     "end_time": "2025-04-08T20:53:19.584504",
     "exception": false,
     "start_time": "2025-04-08T20:53:19.244213",
     "status": "completed"
    },
    "tags": []
   },
   "outputs": [],
   "source": [
    "# Load workbook to pandas\n",
    "wb = pd.ExcelFile(\n",
    "    filepath,\n",
    "    engine = 'openpyxl'\n",
    ")"
   ]
  },
  {
   "cell_type": "code",
   "execution_count": 7,
   "id": "35e331f2",
   "metadata": {
    "execution": {
     "iopub.execute_input": "2025-04-08T20:53:19.588150Z",
     "iopub.status.busy": "2025-04-08T20:53:19.588025Z",
     "iopub.status.idle": "2025-04-08T20:53:19.634802Z",
     "shell.execute_reply": "2025-04-08T20:53:19.634561Z"
    },
    "papermill": {
     "duration": 0.049426,
     "end_time": "2025-04-08T20:53:19.635528",
     "exception": false,
     "start_time": "2025-04-08T20:53:19.586102",
     "status": "completed"
    },
    "tags": []
   },
   "outputs": [
    {
     "name": "stdout",
     "output_type": "stream",
     "text": [
      "2025-04-08 22:53:19,628 - main - INFO :: file_handler.py :: logement.logements_sociaux -> results saved to : 'data/imports/logement/logement.logements_sociaux_REGION.xlsx'\n"
     ]
    },
    {
     "data": {
      "text/html": [
       "<div>\n",
       "<style scoped>\n",
       "    .dataframe tbody tr th:only-of-type {\n",
       "        vertical-align: middle;\n",
       "    }\n",
       "\n",
       "    .dataframe tbody tr th {\n",
       "        vertical-align: top;\n",
       "    }\n",
       "\n",
       "    .dataframe thead th {\n",
       "        text-align: right;\n",
       "    }\n",
       "</style>\n",
       "<table border=\"1\" class=\"dataframe\">\n",
       "  <thead>\n",
       "    <tr style=\"text-align: right;\">\n",
       "      <th></th>\n",
       "      <th>LIBREG</th>\n",
       "      <th>densite</th>\n",
       "      <th>nb_ls</th>\n",
       "      <th>tx_vac</th>\n",
       "      <th>tx_mob</th>\n",
       "    </tr>\n",
       "    <tr>\n",
       "      <th>REG</th>\n",
       "      <th></th>\n",
       "      <th></th>\n",
       "      <th></th>\n",
       "      <th></th>\n",
       "      <th></th>\n",
       "    </tr>\n",
       "  </thead>\n",
       "  <tbody>\n",
       "    <tr>\n",
       "      <th>1</th>\n",
       "      <td>Guadeloupe</td>\n",
       "      <td>22.67</td>\n",
       "      <td>40059</td>\n",
       "      <td>4.0576</td>\n",
       "      <td>6.4367</td>\n",
       "    </tr>\n",
       "    <tr>\n",
       "      <th>2</th>\n",
       "      <td>Martinique</td>\n",
       "      <td>20.99</td>\n",
       "      <td>35441</td>\n",
       "      <td>3.3365</td>\n",
       "      <td>5.7104</td>\n",
       "    </tr>\n",
       "    <tr>\n",
       "      <th>3</th>\n",
       "      <td>Guyane</td>\n",
       "      <td>25.52</td>\n",
       "      <td>21762</td>\n",
       "      <td>5.8323</td>\n",
       "      <td>7.6475</td>\n",
       "    </tr>\n",
       "    <tr>\n",
       "      <th>4</th>\n",
       "      <td>La Réunion</td>\n",
       "      <td>23.97</td>\n",
       "      <td>83463</td>\n",
       "      <td>1.3322</td>\n",
       "      <td>6.0356</td>\n",
       "    </tr>\n",
       "    <tr>\n",
       "      <th>6</th>\n",
       "      <td>Mayotte</td>\n",
       "      <td>4.66</td>\n",
       "      <td>2941</td>\n",
       "      <td>9.9919</td>\n",
       "      <td>16.8759</td>\n",
       "    </tr>\n",
       "  </tbody>\n",
       "</table>\n",
       "</div>"
      ],
      "text/plain": [
       "         LIBREG  densite  nb_ls  tx_vac   tx_mob\n",
       "REG                                             \n",
       "1    Guadeloupe    22.67  40059  4.0576   6.4367\n",
       "2    Martinique    20.99  35441  3.3365   5.7104\n",
       "3        Guyane    25.52  21762  5.8323   7.6475\n",
       "4    La Réunion    23.97  83463  1.3322   6.0356\n",
       "6       Mayotte     4.66   2941  9.9919  16.8759"
      ]
     },
     "execution_count": 7,
     "metadata": {},
     "output_type": "execute_result"
    }
   ],
   "source": [
    "# Load excel sheet for Regions\n",
    "sheet_name = \"REGION\"\n",
    "keep_columns_region = [\n",
    "    'LIBREG',\n",
    "    'densite',\n",
    "    'nb_ls',\n",
    "    'tx_vac',\n",
    "    'tx_mob'\n",
    "]\n",
    "\n",
    "\n",
    "df_region = pd.read_excel(wb, \n",
    "                    sheet_name = \"REGION\",\n",
    "                    index_col = \"REG\",\n",
    "                    header = 5\n",
    "                    )\n",
    "\n",
    "df_region = df_region[keep_columns_region]\n",
    "dataframes[\"REGION\"] = df_region\n",
    "\n",
    "region_artifact = handler.artifact_dump( df_region, \"REGION\", model)\n",
    "artifacts.append(region_artifact)\n",
    "\n",
    "df_region.head()"
   ]
  },
  {
   "cell_type": "code",
   "execution_count": 8,
   "id": "25f637be",
   "metadata": {
    "execution": {
     "iopub.execute_input": "2025-04-08T20:53:19.641369Z",
     "iopub.status.busy": "2025-04-08T20:53:19.641271Z",
     "iopub.status.idle": "2025-04-08T20:53:19.772494Z",
     "shell.execute_reply": "2025-04-08T20:53:19.772245Z"
    },
    "papermill": {
     "duration": 0.135853,
     "end_time": "2025-04-08T20:53:19.773181",
     "exception": false,
     "start_time": "2025-04-08T20:53:19.637328",
     "status": "completed"
    },
    "tags": []
   },
   "outputs": [
    {
     "name": "stdout",
     "output_type": "stream",
     "text": [
      "2025-04-08 22:53:19,768 - main - INFO :: file_handler.py :: logement.logements_sociaux -> results saved to : 'data/imports/logement/logement.logements_sociaux_DEPARTEMENT.xlsx'\n"
     ]
    },
    {
     "data": {
      "text/html": [
       "<div>\n",
       "<style scoped>\n",
       "    .dataframe tbody tr th:only-of-type {\n",
       "        vertical-align: middle;\n",
       "    }\n",
       "\n",
       "    .dataframe tbody tr th {\n",
       "        vertical-align: top;\n",
       "    }\n",
       "\n",
       "    .dataframe thead th {\n",
       "        text-align: right;\n",
       "    }\n",
       "</style>\n",
       "<table border=\"1\" class=\"dataframe\">\n",
       "  <thead>\n",
       "    <tr style=\"text-align: right;\">\n",
       "      <th></th>\n",
       "      <th>Unnamed: 1</th>\n",
       "      <th>densite</th>\n",
       "      <th>nb_ls</th>\n",
       "      <th>tx_vac</th>\n",
       "      <th>tx_mob</th>\n",
       "    </tr>\n",
       "    <tr>\n",
       "      <th>DEP</th>\n",
       "      <th></th>\n",
       "      <th></th>\n",
       "      <th></th>\n",
       "      <th></th>\n",
       "      <th></th>\n",
       "    </tr>\n",
       "  </thead>\n",
       "  <tbody>\n",
       "    <tr>\n",
       "      <th>01</th>\n",
       "      <td>Ain</td>\n",
       "      <td>17.41</td>\n",
       "      <td>49608</td>\n",
       "      <td>2.5346</td>\n",
       "      <td>9.4306</td>\n",
       "    </tr>\n",
       "    <tr>\n",
       "      <th>02</th>\n",
       "      <td>Aisne</td>\n",
       "      <td>17.72</td>\n",
       "      <td>41217</td>\n",
       "      <td>3.5452</td>\n",
       "      <td>10.1188</td>\n",
       "    </tr>\n",
       "    <tr>\n",
       "      <th>03</th>\n",
       "      <td>Allier</td>\n",
       "      <td>12.14</td>\n",
       "      <td>19853</td>\n",
       "      <td>5.1155</td>\n",
       "      <td>10.7542</td>\n",
       "    </tr>\n",
       "    <tr>\n",
       "      <th>04</th>\n",
       "      <td>Alpes-de-Haute-Provence</td>\n",
       "      <td>9.82</td>\n",
       "      <td>7888</td>\n",
       "      <td>2.0628</td>\n",
       "      <td>10.8499</td>\n",
       "    </tr>\n",
       "    <tr>\n",
       "      <th>05</th>\n",
       "      <td>Hautes-Alpes</td>\n",
       "      <td>11.80</td>\n",
       "      <td>8050</td>\n",
       "      <td>3.7698</td>\n",
       "      <td>7.6982</td>\n",
       "    </tr>\n",
       "  </tbody>\n",
       "</table>\n",
       "</div>"
      ],
      "text/plain": [
       "                  Unnamed: 1  densite  nb_ls  tx_vac   tx_mob\n",
       "DEP                                                          \n",
       "01                       Ain    17.41  49608  2.5346   9.4306\n",
       "02                     Aisne    17.72  41217  3.5452  10.1188\n",
       "03                    Allier    12.14  19853  5.1155  10.7542\n",
       "04   Alpes-de-Haute-Provence     9.82   7888  2.0628  10.8499\n",
       "05              Hautes-Alpes    11.80   8050  3.7698   7.6982"
      ]
     },
     "execution_count": 8,
     "metadata": {},
     "output_type": "execute_result"
    }
   ],
   "source": [
    "# Load excel sheet for Departments\n",
    "keep_columns_departments = [\n",
    "    'Unnamed: 1',\n",
    "    'densite',\n",
    "    'nb_ls',\n",
    "    'tx_vac',\n",
    "    'tx_mob'\n",
    "]\n",
    "\n",
    "df_department = pd.read_excel(wb, \n",
    "                    sheet_name = \"DEPARTEMENT\",\n",
    "                    index_col = \"DEP\",\n",
    "                    header = 5\n",
    "                    )\n",
    "\n",
    "df_department = df_department[keep_columns_departments]\n",
    "\n",
    "# TODO : rename column for Unnamed: 1\n",
    "\n",
    "dataframes[\"DEPARTEMENT\"] = df_department\n",
    "\n",
    "department_artifact = handler.artifact_dump( df_department, \"DEPARTEMENT\", model)\n",
    "artifacts.append(department_artifact)\n",
    "\n",
    "df_department.head()"
   ]
  },
  {
   "cell_type": "code",
   "execution_count": 9,
   "id": "044be439",
   "metadata": {
    "execution": {
     "iopub.execute_input": "2025-04-08T20:53:19.777120Z",
     "iopub.status.busy": "2025-04-08T20:53:19.777032Z",
     "iopub.status.idle": "2025-04-08T20:53:21.469025Z",
     "shell.execute_reply": "2025-04-08T20:53:21.468702Z"
    },
    "papermill": {
     "duration": 1.695242,
     "end_time": "2025-04-08T20:53:21.470239",
     "exception": false,
     "start_time": "2025-04-08T20:53:19.774997",
     "status": "completed"
    },
    "tags": []
   },
   "outputs": [
    {
     "name": "stdout",
     "output_type": "stream",
     "text": [
      "2025-04-08 22:53:21,463 - main - INFO :: file_handler.py :: logement.logements_sociaux -> results saved to : 'data/imports/logement/logement.logements_sociaux_EPCI.xlsx'\n"
     ]
    },
    {
     "data": {
      "text/html": [
       "<div>\n",
       "<style scoped>\n",
       "    .dataframe tbody tr th:only-of-type {\n",
       "        vertical-align: middle;\n",
       "    }\n",
       "\n",
       "    .dataframe tbody tr th {\n",
       "        vertical-align: top;\n",
       "    }\n",
       "\n",
       "    .dataframe thead th {\n",
       "        text-align: right;\n",
       "    }\n",
       "</style>\n",
       "<table border=\"1\" class=\"dataframe\">\n",
       "  <thead>\n",
       "    <tr style=\"text-align: right;\">\n",
       "      <th></th>\n",
       "      <th>LIBEPCI</th>\n",
       "      <th>densite</th>\n",
       "      <th>nb_ls</th>\n",
       "      <th>tx_vac</th>\n",
       "      <th>tx_mob</th>\n",
       "    </tr>\n",
       "    <tr>\n",
       "      <th>EPCI_DEP</th>\n",
       "      <th></th>\n",
       "      <th></th>\n",
       "      <th></th>\n",
       "      <th></th>\n",
       "      <th></th>\n",
       "    </tr>\n",
       "  </thead>\n",
       "  <tbody>\n",
       "    <tr>\n",
       "      <th>200029999 - (01)</th>\n",
       "      <td>CC Rives de l'Ain - Pays du Cerdon</td>\n",
       "      <td>9.90</td>\n",
       "      <td>637</td>\n",
       "      <td>2.7553</td>\n",
       "      <td>11.8506</td>\n",
       "    </tr>\n",
       "    <tr>\n",
       "      <th>200040350 - (01)</th>\n",
       "      <td>CC Bugey Sud</td>\n",
       "      <td>12.68</td>\n",
       "      <td>1936</td>\n",
       "      <td>3.5656</td>\n",
       "      <td>9.9287</td>\n",
       "    </tr>\n",
       "    <tr>\n",
       "      <th>200040590 - (01)</th>\n",
       "      <td>CA Villefranche Beaujolais Saône</td>\n",
       "      <td>26.53</td>\n",
       "      <td>713</td>\n",
       "      <td>1.8545</td>\n",
       "      <td>8.4165</td>\n",
       "    </tr>\n",
       "    <tr>\n",
       "      <th>200042497 - (01)</th>\n",
       "      <td>CC Dombes Saône Vallée</td>\n",
       "      <td>12.37</td>\n",
       "      <td>1976</td>\n",
       "      <td>1.5041</td>\n",
       "      <td>10.2096</td>\n",
       "    </tr>\n",
       "    <tr>\n",
       "      <th>200042935 - (01)</th>\n",
       "      <td>CA Haut - Bugey Agglomération</td>\n",
       "      <td>29.97</td>\n",
       "      <td>8178</td>\n",
       "      <td>3.7475</td>\n",
       "      <td>9.5453</td>\n",
       "    </tr>\n",
       "  </tbody>\n",
       "</table>\n",
       "</div>"
      ],
      "text/plain": [
       "                                             LIBEPCI  densite  nb_ls  tx_vac  \\\n",
       "EPCI_DEP                                                                       \n",
       "200029999 - (01)  CC Rives de l'Ain - Pays du Cerdon     9.90    637  2.7553   \n",
       "200040350 - (01)                        CC Bugey Sud    12.68   1936  3.5656   \n",
       "200040590 - (01)    CA Villefranche Beaujolais Saône    26.53    713  1.8545   \n",
       "200042497 - (01)              CC Dombes Saône Vallée    12.37   1976  1.5041   \n",
       "200042935 - (01)       CA Haut - Bugey Agglomération    29.97   8178  3.7475   \n",
       "\n",
       "                   tx_mob  \n",
       "EPCI_DEP                   \n",
       "200029999 - (01)  11.8506  \n",
       "200040350 - (01)   9.9287  \n",
       "200040590 - (01)   8.4165  \n",
       "200042497 - (01)  10.2096  \n",
       "200042935 - (01)   9.5453  "
      ]
     },
     "execution_count": 9,
     "metadata": {},
     "output_type": "execute_result"
    }
   ],
   "source": [
    "# Load excel sheet for EPCI\n",
    "keep_columns_epci = [\n",
    "    'LIBEPCI',\n",
    "    'densite',\n",
    "    'nb_ls',\n",
    "    'tx_vac',\n",
    "    'tx_mob'\n",
    "]\n",
    "\n",
    "df_epci = pd.read_excel(wb, \n",
    "                    sheet_name = \"EPCI\",\n",
    "                    index_col = \"EPCI_DEP\",\n",
    "                    header = 5\n",
    "                    )\n",
    "\n",
    "df_epci = df_epci[keep_columns_epci]\n",
    "\n",
    "dataframes[\"EPCI\"] = df_epci\n",
    "\n",
    "epci_artifact = handler.artifact_dump( df_epci, \"EPCI\", model)\n",
    "artifacts.append(epci_artifact)\n",
    "\n",
    "df_epci.head()"
   ]
  },
  {
   "cell_type": "code",
   "execution_count": 10,
   "id": "7c8c616b",
   "metadata": {
    "execution": {
     "iopub.execute_input": "2025-04-08T20:53:21.475421Z",
     "iopub.status.busy": "2025-04-08T20:53:21.475211Z",
     "iopub.status.idle": "2025-04-08T20:53:58.031568Z",
     "shell.execute_reply": "2025-04-08T20:53:58.031240Z"
    },
    "papermill": {
     "duration": 36.560003,
     "end_time": "2025-04-08T20:53:58.032562",
     "exception": false,
     "start_time": "2025-04-08T20:53:21.472559",
     "status": "completed"
    },
    "tags": []
   },
   "outputs": [
    {
     "name": "stdout",
     "output_type": "stream",
     "text": [
      "2025-04-08 22:53:58,015 - main - INFO :: file_handler.py :: logement.logements_sociaux -> results saved to : 'data/imports/logement/logement.logements_sociaux_COMMUNES.xlsx'\n"
     ]
    },
    {
     "data": {
      "text/html": [
       "<div>\n",
       "<style scoped>\n",
       "    .dataframe tbody tr th:only-of-type {\n",
       "        vertical-align: middle;\n",
       "    }\n",
       "\n",
       "    .dataframe tbody tr th {\n",
       "        vertical-align: top;\n",
       "    }\n",
       "\n",
       "    .dataframe thead th {\n",
       "        text-align: right;\n",
       "    }\n",
       "</style>\n",
       "<table border=\"1\" class=\"dataframe\">\n",
       "  <thead>\n",
       "    <tr style=\"text-align: right;\">\n",
       "      <th></th>\n",
       "      <th>LIBCOM_DEP</th>\n",
       "      <th>densite</th>\n",
       "      <th>nb_ls</th>\n",
       "      <th>tx_vac</th>\n",
       "      <th>tx_mob</th>\n",
       "    </tr>\n",
       "    <tr>\n",
       "      <th>DEPCOM_ARM</th>\n",
       "      <th></th>\n",
       "      <th></th>\n",
       "      <th></th>\n",
       "      <th></th>\n",
       "      <th></th>\n",
       "    </tr>\n",
       "  </thead>\n",
       "  <tbody>\n",
       "    <tr>\n",
       "      <th>01001</th>\n",
       "      <td>L'Abergement-Clémenciat (01)</td>\n",
       "      <td>9.38</td>\n",
       "      <td>32</td>\n",
       "      <td>3.1250</td>\n",
       "      <td>9.0909</td>\n",
       "    </tr>\n",
       "    <tr>\n",
       "      <th>01004</th>\n",
       "      <td>Ambérieu-en-Bugey (01)</td>\n",
       "      <td>30.42</td>\n",
       "      <td>2109</td>\n",
       "      <td>4.7952</td>\n",
       "      <td>10.1169</td>\n",
       "    </tr>\n",
       "    <tr>\n",
       "      <th>01005</th>\n",
       "      <td>Ambérieux-en-Dombes (01)</td>\n",
       "      <td>14.22</td>\n",
       "      <td>113</td>\n",
       "      <td>2.7273</td>\n",
       "      <td>14.8515</td>\n",
       "    </tr>\n",
       "    <tr>\n",
       "      <th>01007</th>\n",
       "      <td>Ambronay (01)</td>\n",
       "      <td>10.75</td>\n",
       "      <td>129</td>\n",
       "      <td>2.4390</td>\n",
       "      <td>12.1951</td>\n",
       "    </tr>\n",
       "    <tr>\n",
       "      <th>01008</th>\n",
       "      <td>Ambutrix (01)</td>\n",
       "      <td>5.12</td>\n",
       "      <td>17</td>\n",
       "      <td>5.8824</td>\n",
       "      <td>5.8824</td>\n",
       "    </tr>\n",
       "  </tbody>\n",
       "</table>\n",
       "</div>"
      ],
      "text/plain": [
       "                              LIBCOM_DEP  densite  nb_ls  tx_vac   tx_mob\n",
       "DEPCOM_ARM                                                               \n",
       "01001       L'Abergement-Clémenciat (01)     9.38     32  3.1250   9.0909\n",
       "01004             Ambérieu-en-Bugey (01)    30.42   2109  4.7952  10.1169\n",
       "01005           Ambérieux-en-Dombes (01)    14.22    113  2.7273  14.8515\n",
       "01007                      Ambronay (01)    10.75    129  2.4390  12.1951\n",
       "01008                      Ambutrix (01)     5.12     17  5.8824   5.8824"
      ]
     },
     "execution_count": 10,
     "metadata": {},
     "output_type": "execute_result"
    }
   ],
   "source": [
    "# Load excel sheet for COMMUNES\n",
    "keep_columns_communes = [\n",
    "    'LIBCOM_DEP',\n",
    "    'densite',\n",
    "    'nb_ls',\n",
    "    'tx_vac',\n",
    "    'tx_mob'\n",
    "]\n",
    "\n",
    "df_communes = pd.read_excel(wb, \n",
    "                    sheet_name = \"COMMUNES\",\n",
    "                    index_col = \"DEPCOM_ARM\",\n",
    "                    header = 5\n",
    "                    )\n",
    "\n",
    "df_communes = df_communes[keep_columns_communes]\n",
    "\n",
    "dataframes[\"COMMUNES\"] = df_communes\n",
    "\n",
    "communes_artifact = handler.artifact_dump( df_communes, \"COMMUNES\", model )\n",
    "artifacts.append(communes_artifact)\n",
    "\n",
    "df_communes.head()"
   ]
  },
  {
   "cell_type": "markdown",
   "id": "3c822c5f",
   "metadata": {
    "papermill": {
     "duration": 0.002008,
     "end_time": "2025-04-08T20:53:58.037319",
     "exception": false,
     "start_time": "2025-04-08T20:53:58.035311",
     "status": "completed"
    },
    "tags": []
   },
   "source": [
    "## Sauvegarde des métadonnées\n",
    "On sauvegarde les métadonnées du processus localement, pour garder l'historique et pouvoir reprendre après erreur si besoin"
   ]
  },
  {
   "cell_type": "code",
   "execution_count": 11,
   "id": "e3de271b",
   "metadata": {
    "execution": {
     "iopub.execute_input": "2025-04-08T20:53:58.044801Z",
     "iopub.status.busy": "2025-04-08T20:53:58.044514Z",
     "iopub.status.idle": "2025-04-08T20:53:58.054161Z",
     "shell.execute_reply": "2025-04-08T20:53:58.053909Z"
    },
    "papermill": {
     "duration": 0.014442,
     "end_time": "2025-04-08T20:53:58.055600",
     "exception": false,
     "start_time": "2025-04-08T20:53:58.041158",
     "status": "completed"
    },
    "tags": []
   },
   "outputs": [
    {
     "name": "stdout",
     "output_type": "stream",
     "text": [
      "{'name': 'REGION', 'storage_info': {'location': 'data/imports/logement', 'format': 'xlsx', 'file_name': 'logement.logements_sociaux_REGION.xlsx', 'encoding': 'utf-8'}, 'load_to_bronze': True, 'success': True}\n",
      "{'name': 'DEPARTEMENT', 'storage_info': {'location': 'data/imports/logement', 'format': 'xlsx', 'file_name': 'logement.logements_sociaux_DEPARTEMENT.xlsx', 'encoding': 'utf-8'}, 'load_to_bronze': True, 'success': True}\n",
      "{'name': 'EPCI', 'storage_info': {'location': 'data/imports/logement', 'format': 'xlsx', 'file_name': 'logement.logements_sociaux_EPCI.xlsx', 'encoding': 'utf-8'}, 'load_to_bronze': True, 'success': True}\n",
      "{'name': 'COMMUNES', 'storage_info': {'location': 'data/imports/logement', 'format': 'xlsx', 'file_name': 'logement.logements_sociaux_COMMUNES.xlsx', 'encoding': 'utf-8'}, 'load_to_bronze': True, 'success': True}\n",
      "2025-04-08 22:53:58,052 - main - INFO :: file_handler.py :: logement.logements_sociaux -> results saved to : 'data/imports/logement/logement.logements_sociaux_metadata_preprocess.json'\n"
     ]
    },
    {
     "name": "stdout",
     "output_type": "stream",
     "text": [
      "2025-04-08 22:53:58,052 - main - DEBUG :: file_handler.py :: Metadata written in: 'data/imports/logement/logement.logements_sociaux_metadata_preprocess.json'\n"
     ]
    }
   ],
   "source": [
    "for artifact in artifacts:\n",
    "    print(artifact.model_dump( mode = \"json\" ))\n",
    "\n",
    "preprocess_metadata = handler.dump_metadata(\n",
    "    model = model,\n",
    "    operation = OperationType.PREPROCESS,\n",
    "    start_time = start_time,\n",
    "    complete = True,\n",
    "    errors = 0,\n",
    "    artifacts = artifacts,\n",
    "    pages = []\n",
    ")"
   ]
  },
  {
   "cell_type": "markdown",
   "id": "e5cd7a00",
   "metadata": {
    "papermill": {
     "duration": 0.002909,
     "end_time": "2025-04-08T20:53:58.060994",
     "exception": false,
     "start_time": "2025-04-08T20:53:58.058085",
     "status": "completed"
    },
    "tags": []
   },
   "source": [
    "## Chargement en couche Bronze\n",
    "On charge un engine SQLAchemy pour charger tous les datasets en base"
   ]
  },
  {
   "cell_type": "code",
   "execution_count": 12,
   "id": "488c6621",
   "metadata": {
    "execution": {
     "iopub.execute_input": "2025-04-08T20:53:58.068848Z",
     "iopub.status.busy": "2025-04-08T20:53:58.068640Z",
     "iopub.status.idle": "2025-04-08T20:53:58.170882Z",
     "shell.execute_reply": "2025-04-08T20:53:58.170602Z"
    },
    "papermill": {
     "duration": 0.108801,
     "end_time": "2025-04-08T20:53:58.172241",
     "exception": false,
     "start_time": "2025-04-08T20:53:58.063440",
     "status": "completed"
    },
    "tags": []
   },
   "outputs": [],
   "source": [
    "# prepare db client\n",
    "vals = dotenv_values()\n",
    "\n",
    "conn_str = \"postgresql://{}:{}@{}:{}/{}\".format(\n",
    "    vals[\"PG_DB_USER\"],\n",
    "    vals[\"PG_DB_PWD\"],\n",
    "    vals[\"PG_DB_HOST\"],\n",
    "    vals[\"PG_DB_PORT\"],\n",
    "    vals[\"PG_DB_NAME\"]\n",
    ")\n",
    "\n",
    "dbengine = sqlalchemy.create_engine(conn_str)"
   ]
  },
  {
   "cell_type": "code",
   "execution_count": 13,
   "id": "df019f58",
   "metadata": {
    "execution": {
     "iopub.execute_input": "2025-04-08T20:53:58.176702Z",
     "iopub.status.busy": "2025-04-08T20:53:58.176602Z",
     "iopub.status.idle": "2025-04-08T20:53:59.105187Z",
     "shell.execute_reply": "2025-04-08T20:53:59.104913Z"
    },
    "papermill": {
     "duration": 0.931651,
     "end_time": "2025-04-08T20:53:59.106019",
     "exception": false,
     "start_time": "2025-04-08T20:53:58.174368",
     "status": "completed"
    },
    "tags": []
   },
   "outputs": [],
   "source": [
    "# insert all to bronze\n",
    "# make the final table name lowercase to avoid issues in Postgre\n",
    "for name, dataframe in dataframes.items():\n",
    "    dataframe.to_sql(\n",
    "        name = f\"{model.table_name}_{name.lower()}\",\n",
    "        con = dbengine,\n",
    "        schema = 'bronze',\n",
    "        index = True,\n",
    "        if_exists = 'replace'\n",
    "    )\n"
   ]
  },
  {
   "cell_type": "code",
   "execution_count": null,
   "id": "6fd4fba2",
   "metadata": {
    "papermill": {
     "duration": 0.001832,
     "end_time": "2025-04-08T20:53:59.109890",
     "exception": false,
     "start_time": "2025-04-08T20:53:59.108058",
     "status": "completed"
    },
    "tags": []
   },
   "outputs": [],
   "source": []
  }
 ],
 "metadata": {
  "kernelspec": {
   "display_name": ".venv",
   "language": "python",
   "name": "python3"
  },
  "language_info": {
   "codemirror_mode": {
    "name": "ipython",
    "version": 3
   },
   "file_extension": ".py",
   "mimetype": "text/x-python",
   "name": "python",
   "nbconvert_exporter": "python",
   "pygments_lexer": "ipython3",
   "version": "3.12.9"
  },
  "papermill": {
   "default_parameters": {},
   "duration": 41.600848,
   "end_time": "2025-04-08T20:53:59.429976",
   "environment_variables": {},
   "exception": null,
   "input_path": "notebooks/logements_sociaux_rpls.ipynb",
   "output_path": "notebooks/logements_sociaux_rpls_processed.ipynb",
   "parameters": {
    "filepath": "data/imports/logement/logement.logements_sociaux_1.xlsx",
    "model_name": "logement.logements_sociaux"
   },
   "start_time": "2025-04-08T20:53:17.829128",
   "version": "2.6.0"
  }
 },
 "nbformat": 4,
 "nbformat_minor": 5
}