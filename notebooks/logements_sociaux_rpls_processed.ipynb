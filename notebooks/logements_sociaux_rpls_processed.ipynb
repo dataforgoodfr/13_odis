{
 "cells": [
  {
   "cell_type": "markdown",
   "id": "16b1be4d",
   "metadata": {
    "papermill": {
     "duration": 0.008108,
     "end_time": "2025-04-04T22:18:07.271695",
     "exception": false,
     "start_time": "2025-04-04T22:18:07.263587",
     "status": "completed"
    },
    "tags": []
   },
   "source": [
    "# Preprocessor Notebook : Logements Sociaux, fichier RPLS annuel\n",
    "\n",
    "Ce notebook traite le fichier Excel du RPLS annuel : données sur les logements sociaux.\n",
    "Le but est de récupérer les datasets suivants, à partir du fichier XSLX téléchargé depuis le site du ministère du Développement Durable :\n",
    " - Données par régions\n",
    " - Données par départements\n",
    " - Données par EPCI\n",
    " - Données par communes\n",
    "\n",
    " ### Paramètres\n",
    " Ce Notebook prend des paramètres en entrée, définis sur la toute première cellule (ci-dessus).\n",
    " La cellule a le tag \"parameters\" ce qui permet de lui passer des valeurs via papermill.\n",
    " - filepath : le chemin vers le fichier Excel à traiter\n",
    " - model_name : le nom du modèle source\n",
    "\n",
    " ### Principe\n",
    " Ce notebook extrait 4 feuilles du fichier Excel d'entrée : region, departement, epci, communes. \n",
    " Chaque feuille est chargée dans un dataFrame puis sauvegardée en .xlsx, et chargée en base de données Bronze.\n",
    " Peu de retraitement sur ces dataFrames, seul le tableau \"departement\" a besoin de renommer une colonne."
   ]
  },
  {
   "cell_type": "markdown",
   "id": "72e0d671",
   "metadata": {
    "papermill": {
     "duration": 0.003721,
     "end_time": "2025-04-04T22:18:07.281921",
     "exception": false,
     "start_time": "2025-04-04T22:18:07.278200",
     "status": "completed"
    },
    "tags": []
   },
   "source": [
    "## Paramètres du Notebook"
   ]
  },
  {
   "cell_type": "code",
   "execution_count": 1,
   "id": "dbfb224f",
   "metadata": {
    "execution": {
     "iopub.execute_input": "2025-04-04T22:18:07.289165Z",
     "iopub.status.busy": "2025-04-04T22:18:07.288897Z",
     "iopub.status.idle": "2025-04-04T22:18:07.293455Z",
     "shell.execute_reply": "2025-04-04T22:18:07.293006Z"
    },
    "papermill": {
     "duration": 0.009529,
     "end_time": "2025-04-04T22:18:07.294758",
     "exception": false,
     "start_time": "2025-04-04T22:18:07.285229",
     "status": "completed"
    },
    "tags": [
     "parameters"
    ]
   },
   "outputs": [],
   "source": [
    "# Define parameters for papermill\n",
    "filepath = 'data/imports/logement/logement.logements_sociaux_1.xlsx'\n",
    "model_name = \"logement.logements_sociaux\""
   ]
  },
  {
   "cell_type": "code",
   "execution_count": 2,
   "id": "13e3ff56",
   "metadata": {
    "execution": {
     "iopub.execute_input": "2025-04-04T22:18:07.301756Z",
     "iopub.status.busy": "2025-04-04T22:18:07.301560Z",
     "iopub.status.idle": "2025-04-04T22:18:07.304069Z",
     "shell.execute_reply": "2025-04-04T22:18:07.303664Z"
    },
    "papermill": {
     "duration": 0.00651,
     "end_time": "2025-04-04T22:18:07.305126",
     "exception": false,
     "start_time": "2025-04-04T22:18:07.298616",
     "status": "completed"
    },
    "tags": [
     "injected-parameters"
    ]
   },
   "outputs": [],
   "source": [
    "# Parameters\n",
    "filepath = \"data/imports/logement/logement.logements_sociaux_1.xlsx\"\n",
    "model_name = \"logement.logements_sociaux\"\n"
   ]
  },
  {
   "cell_type": "markdown",
   "id": "1a801059",
   "metadata": {
    "papermill": {
     "duration": 0.002125,
     "end_time": "2025-04-04T22:18:07.310256",
     "exception": false,
     "start_time": "2025-04-04T22:18:07.308131",
     "status": "completed"
    },
    "tags": []
   },
   "source": [
    "## Initialisation\n",
    "\n",
    "Les cellules suivantes servent à importer les modules nécessaires et à préparer les variables communes utilisées dans les traitements."
   ]
  },
  {
   "cell_type": "code",
   "execution_count": 3,
   "id": "80ce12e9",
   "metadata": {
    "execution": {
     "iopub.execute_input": "2025-04-04T22:18:07.315146Z",
     "iopub.status.busy": "2025-04-04T22:18:07.314952Z",
     "iopub.status.idle": "2025-04-04T22:18:07.746389Z",
     "shell.execute_reply": "2025-04-04T22:18:07.746149Z"
    },
    "papermill": {
     "duration": 0.434823,
     "end_time": "2025-04-04T22:18:07.747134",
     "exception": false,
     "start_time": "2025-04-04T22:18:07.312311",
     "status": "completed"
    },
    "tags": []
   },
   "outputs": [
    {
     "name": "stdout",
     "output_type": "stream",
     "text": [
      "/Users/alex/dev/13_odis\n"
     ]
    }
   ],
   "source": [
    "# Manage all imports\n",
    "\n",
    "import pandas as pd\n",
    "import os\n",
    "import sys\n",
    "import datetime\n",
    "from dotenv import dotenv_values\n",
    "import sqlalchemy\n",
    "\n",
    "# Necessary trick to be able to import common odis modules, if the notebook is not executed from 13_odis\n",
    "current_dir = os.getcwd()\n",
    "parent_dir = os.path.dirname(os.getcwd())\n",
    "while not current_dir.endswith(\"13_odis\"):\n",
    "    print(\"changing to parent dir\")\n",
    "    os.chdir(parent_dir)\n",
    "    current_dir = parent_dir\n",
    "    parent_dir = os.path.dirname(current_dir)\n",
    "\n",
    "print(os.getcwd())\n",
    "sys.path.append(current_dir)\n",
    "\n",
    "from common.config import load_config\n",
    "from common.utils.database_client import DatabaseClient\n",
    "from common.data_source_model import DataSourceModel, DomainModel\n",
    "from common.utils.file_handler import FileHandler\n",
    "from common.utils.interfaces.data_handler import ArtifactLog, OperationType"
   ]
  },
  {
   "cell_type": "code",
   "execution_count": 4,
   "id": "d8390160",
   "metadata": {
    "execution": {
     "iopub.execute_input": "2025-04-04T22:18:07.750383Z",
     "iopub.status.busy": "2025-04-04T22:18:07.750298Z",
     "iopub.status.idle": "2025-04-04T22:18:07.765965Z",
     "shell.execute_reply": "2025-04-04T22:18:07.765725Z"
    },
    "papermill": {
     "duration": 0.017988,
     "end_time": "2025-04-04T22:18:07.766619",
     "exception": false,
     "start_time": "2025-04-04T22:18:07.748631",
     "status": "completed"
    },
    "tags": []
   },
   "outputs": [],
   "source": [
    "# Initialize common variables\n",
    "\n",
    "config = load_config(\"datasources.yaml\", response_model=DataSourceModel)\n",
    "model = config.get_model( model_name = model_name)\n",
    "\n",
    "dataframes = {}\n",
    "artifacts = []\n",
    "\n",
    "start_datetime = datetime.datetime.now()\n",
    "\n",
    "# Instantiate File Handler for file loads and dumps\n",
    "handler = FileHandler()"
   ]
  },
  {
   "cell_type": "markdown",
   "id": "2862e787",
   "metadata": {
    "papermill": {
     "duration": 0.001315,
     "end_time": "2025-04-04T22:18:07.769321",
     "exception": false,
     "start_time": "2025-04-04T22:18:07.768006",
     "status": "completed"
    },
    "tags": []
   },
   "source": [
    "### Utility functions\n",
    "Définition de fonctions utilitaires pour les traitements"
   ]
  },
  {
   "cell_type": "code",
   "execution_count": 5,
   "id": "93ed237e",
   "metadata": {
    "execution": {
     "iopub.execute_input": "2025-04-04T22:18:07.772480Z",
     "iopub.status.busy": "2025-04-04T22:18:07.772324Z",
     "iopub.status.idle": "2025-04-04T22:18:07.774446Z",
     "shell.execute_reply": "2025-04-04T22:18:07.774274Z"
    },
    "papermill": {
     "duration": 0.004479,
     "end_time": "2025-04-04T22:18:07.775039",
     "exception": false,
     "start_time": "2025-04-04T22:18:07.770560",
     "status": "completed"
    },
    "tags": []
   },
   "outputs": [],
   "source": [
    "def dump_sheet( df:pd.DataFrame, sheet_name: str, model: DomainModel ) -> ArtifactLog:\n",
    "    \"\"\"Utility function to dump a DataFrame to an Excel file.\n",
    "    Returns an ArtifactLog for historicization\"\"\"\n",
    "\n",
    "    load_to_bronze = False\n",
    "    dump_success = False\n",
    "    storage_info = None\n",
    "\n",
    "    try:\n",
    "        storage_info = handler.file_dump(model, df, suffix = sheet_name)\n",
    "        dump_success = True\n",
    "        load_to_bronze = True\n",
    "    except Exception as e:\n",
    "        print(f\"Failed to dump artifact {sheet_name}: {str(e)}\")\n",
    "        load_to_bronze = False\n",
    "        dump_success = False\n",
    "        \n",
    "    return ArtifactLog(\n",
    "            name = sheet_name,\n",
    "            format = \"xlsx\",\n",
    "            storage_info = storage_info,\n",
    "            load_to_bronze = load_to_bronze,\n",
    "            success = dump_success\n",
    "        )"
   ]
  },
  {
   "cell_type": "markdown",
   "id": "a5a53c8d",
   "metadata": {
    "papermill": {
     "duration": 0.001454,
     "end_time": "2025-04-04T22:18:07.777742",
     "exception": false,
     "start_time": "2025-04-04T22:18:07.776288",
     "status": "completed"
    },
    "tags": []
   },
   "source": [
    "## Traitement des données\n",
    "A partir de là, on charge le fichier Excel dans Pandas et on traite les feuilles à récupérer, une par une"
   ]
  },
  {
   "cell_type": "code",
   "execution_count": 6,
   "id": "a52e7773",
   "metadata": {
    "execution": {
     "iopub.execute_input": "2025-04-04T22:18:07.781190Z",
     "iopub.status.busy": "2025-04-04T22:18:07.781119Z",
     "iopub.status.idle": "2025-04-04T22:18:08.065673Z",
     "shell.execute_reply": "2025-04-04T22:18:08.065450Z"
    },
    "papermill": {
     "duration": 0.287522,
     "end_time": "2025-04-04T22:18:08.066470",
     "exception": false,
     "start_time": "2025-04-04T22:18:07.778948",
     "status": "completed"
    },
    "tags": []
   },
   "outputs": [],
   "source": [
    "# Load workbook to pandas\n",
    "wb = pd.ExcelFile(\n",
    "    filepath,\n",
    "    engine = 'openpyxl'\n",
    ")"
   ]
  },
  {
   "cell_type": "code",
   "execution_count": 7,
   "id": "fe99f50e",
   "metadata": {
    "execution": {
     "iopub.execute_input": "2025-04-04T22:18:08.069843Z",
     "iopub.status.busy": "2025-04-04T22:18:08.069700Z",
     "iopub.status.idle": "2025-04-04T22:18:08.120093Z",
     "shell.execute_reply": "2025-04-04T22:18:08.119898Z"
    },
    "papermill": {
     "duration": 0.052667,
     "end_time": "2025-04-04T22:18:08.120705",
     "exception": false,
     "start_time": "2025-04-04T22:18:08.068038",
     "status": "completed"
    },
    "tags": []
   },
   "outputs": [
    {
     "name": "stdout",
     "output_type": "stream",
     "text": [
      "2025-04-05 00:18:08,113 - main - INFO :: file_handler.py :: logement.logements_sociaux -> results saved to : 'data/imports/logement/logement.logements_sociaux_REGION.xlsx'\n"
     ]
    },
    {
     "data": {
      "text/html": [
       "<div>\n",
       "<style scoped>\n",
       "    .dataframe tbody tr th:only-of-type {\n",
       "        vertical-align: middle;\n",
       "    }\n",
       "\n",
       "    .dataframe tbody tr th {\n",
       "        vertical-align: top;\n",
       "    }\n",
       "\n",
       "    .dataframe thead th {\n",
       "        text-align: right;\n",
       "    }\n",
       "</style>\n",
       "<table border=\"1\" class=\"dataframe\">\n",
       "  <thead>\n",
       "    <tr style=\"text-align: right;\">\n",
       "      <th></th>\n",
       "      <th>LIBREG</th>\n",
       "      <th>densite</th>\n",
       "      <th>nb_ls</th>\n",
       "      <th>tx_vac</th>\n",
       "      <th>tx_mob</th>\n",
       "    </tr>\n",
       "    <tr>\n",
       "      <th>REG</th>\n",
       "      <th></th>\n",
       "      <th></th>\n",
       "      <th></th>\n",
       "      <th></th>\n",
       "      <th></th>\n",
       "    </tr>\n",
       "  </thead>\n",
       "  <tbody>\n",
       "    <tr>\n",
       "      <th>1</th>\n",
       "      <td>Guadeloupe</td>\n",
       "      <td>22.67</td>\n",
       "      <td>40059</td>\n",
       "      <td>4.0576</td>\n",
       "      <td>6.4367</td>\n",
       "    </tr>\n",
       "    <tr>\n",
       "      <th>2</th>\n",
       "      <td>Martinique</td>\n",
       "      <td>20.99</td>\n",
       "      <td>35441</td>\n",
       "      <td>3.3365</td>\n",
       "      <td>5.7104</td>\n",
       "    </tr>\n",
       "    <tr>\n",
       "      <th>3</th>\n",
       "      <td>Guyane</td>\n",
       "      <td>25.52</td>\n",
       "      <td>21762</td>\n",
       "      <td>5.8323</td>\n",
       "      <td>7.6475</td>\n",
       "    </tr>\n",
       "    <tr>\n",
       "      <th>4</th>\n",
       "      <td>La Réunion</td>\n",
       "      <td>23.97</td>\n",
       "      <td>83463</td>\n",
       "      <td>1.3322</td>\n",
       "      <td>6.0356</td>\n",
       "    </tr>\n",
       "    <tr>\n",
       "      <th>6</th>\n",
       "      <td>Mayotte</td>\n",
       "      <td>4.66</td>\n",
       "      <td>2941</td>\n",
       "      <td>9.9919</td>\n",
       "      <td>16.8759</td>\n",
       "    </tr>\n",
       "  </tbody>\n",
       "</table>\n",
       "</div>"
      ],
      "text/plain": [
       "         LIBREG  densite  nb_ls  tx_vac   tx_mob\n",
       "REG                                             \n",
       "1    Guadeloupe    22.67  40059  4.0576   6.4367\n",
       "2    Martinique    20.99  35441  3.3365   5.7104\n",
       "3        Guyane    25.52  21762  5.8323   7.6475\n",
       "4    La Réunion    23.97  83463  1.3322   6.0356\n",
       "6       Mayotte     4.66   2941  9.9919  16.8759"
      ]
     },
     "execution_count": 7,
     "metadata": {},
     "output_type": "execute_result"
    }
   ],
   "source": [
    "# Load excel sheet for Regions\n",
    "sheet_name = \"REGION\"\n",
    "keep_columns_region = [\n",
    "    'LIBREG',\n",
    "    'densite',\n",
    "    'nb_ls',\n",
    "    'tx_vac',\n",
    "    'tx_mob'\n",
    "]\n",
    "\n",
    "\n",
    "df_region = pd.read_excel(wb, \n",
    "                    sheet_name = \"REGION\",\n",
    "                    index_col = \"REG\",\n",
    "                    header = 5\n",
    "                    )\n",
    "\n",
    "df_region = df_region[keep_columns_region]\n",
    "dataframes[\"REGION\"] = df_region\n",
    "\n",
    "region_artifact = dump_sheet( df_region, \"REGION\", model)\n",
    "artifacts.append(region_artifact)\n",
    "\n",
    "df_region.head()"
   ]
  },
  {
   "cell_type": "code",
   "execution_count": 8,
   "id": "7a7d9441",
   "metadata": {
    "execution": {
     "iopub.execute_input": "2025-04-04T22:18:08.124695Z",
     "iopub.status.busy": "2025-04-04T22:18:08.124540Z",
     "iopub.status.idle": "2025-04-04T22:18:08.251062Z",
     "shell.execute_reply": "2025-04-04T22:18:08.250825Z"
    },
    "papermill": {
     "duration": 0.128903,
     "end_time": "2025-04-04T22:18:08.251680",
     "exception": false,
     "start_time": "2025-04-04T22:18:08.122777",
     "status": "completed"
    },
    "tags": []
   },
   "outputs": [
    {
     "name": "stdout",
     "output_type": "stream",
     "text": [
      "2025-04-05 00:18:08,247 - main - INFO :: file_handler.py :: logement.logements_sociaux -> results saved to : 'data/imports/logement/logement.logements_sociaux_DEPARTEMENT.xlsx'\n"
     ]
    },
    {
     "data": {
      "text/html": [
       "<div>\n",
       "<style scoped>\n",
       "    .dataframe tbody tr th:only-of-type {\n",
       "        vertical-align: middle;\n",
       "    }\n",
       "\n",
       "    .dataframe tbody tr th {\n",
       "        vertical-align: top;\n",
       "    }\n",
       "\n",
       "    .dataframe thead th {\n",
       "        text-align: right;\n",
       "    }\n",
       "</style>\n",
       "<table border=\"1\" class=\"dataframe\">\n",
       "  <thead>\n",
       "    <tr style=\"text-align: right;\">\n",
       "      <th></th>\n",
       "      <th>Unnamed: 1</th>\n",
       "      <th>densite</th>\n",
       "      <th>nb_ls</th>\n",
       "      <th>tx_vac</th>\n",
       "      <th>tx_mob</th>\n",
       "    </tr>\n",
       "    <tr>\n",
       "      <th>DEP</th>\n",
       "      <th></th>\n",
       "      <th></th>\n",
       "      <th></th>\n",
       "      <th></th>\n",
       "      <th></th>\n",
       "    </tr>\n",
       "  </thead>\n",
       "  <tbody>\n",
       "    <tr>\n",
       "      <th>01</th>\n",
       "      <td>Ain</td>\n",
       "      <td>17.41</td>\n",
       "      <td>49608</td>\n",
       "      <td>2.5346</td>\n",
       "      <td>9.4306</td>\n",
       "    </tr>\n",
       "    <tr>\n",
       "      <th>02</th>\n",
       "      <td>Aisne</td>\n",
       "      <td>17.72</td>\n",
       "      <td>41217</td>\n",
       "      <td>3.5452</td>\n",
       "      <td>10.1188</td>\n",
       "    </tr>\n",
       "    <tr>\n",
       "      <th>03</th>\n",
       "      <td>Allier</td>\n",
       "      <td>12.14</td>\n",
       "      <td>19853</td>\n",
       "      <td>5.1155</td>\n",
       "      <td>10.7542</td>\n",
       "    </tr>\n",
       "    <tr>\n",
       "      <th>04</th>\n",
       "      <td>Alpes-de-Haute-Provence</td>\n",
       "      <td>9.82</td>\n",
       "      <td>7888</td>\n",
       "      <td>2.0628</td>\n",
       "      <td>10.8499</td>\n",
       "    </tr>\n",
       "    <tr>\n",
       "      <th>05</th>\n",
       "      <td>Hautes-Alpes</td>\n",
       "      <td>11.80</td>\n",
       "      <td>8050</td>\n",
       "      <td>3.7698</td>\n",
       "      <td>7.6982</td>\n",
       "    </tr>\n",
       "  </tbody>\n",
       "</table>\n",
       "</div>"
      ],
      "text/plain": [
       "                  Unnamed: 1  densite  nb_ls  tx_vac   tx_mob\n",
       "DEP                                                          \n",
       "01                       Ain    17.41  49608  2.5346   9.4306\n",
       "02                     Aisne    17.72  41217  3.5452  10.1188\n",
       "03                    Allier    12.14  19853  5.1155  10.7542\n",
       "04   Alpes-de-Haute-Provence     9.82   7888  2.0628  10.8499\n",
       "05              Hautes-Alpes    11.80   8050  3.7698   7.6982"
      ]
     },
     "execution_count": 8,
     "metadata": {},
     "output_type": "execute_result"
    }
   ],
   "source": [
    "# Load excel sheet for Departments\n",
    "keep_columns_departments = [\n",
    "    'Unnamed: 1',\n",
    "    'densite',\n",
    "    'nb_ls',\n",
    "    'tx_vac',\n",
    "    'tx_mob'\n",
    "]\n",
    "\n",
    "df_department = pd.read_excel(wb, \n",
    "                    sheet_name = \"DEPARTEMENT\",\n",
    "                    index_col = \"DEP\",\n",
    "                    header = 5\n",
    "                    )\n",
    "\n",
    "df_department = df_department[keep_columns_departments]\n",
    "\n",
    "# TODO : rename column for Unnamed: 1\n",
    "\n",
    "dataframes[\"DEPARTEMENT\"] = df_department\n",
    "\n",
    "department_artifact = dump_sheet( df_department, \"DEPARTEMENT\", model)\n",
    "artifacts.append(department_artifact)\n",
    "\n",
    "df_department.head()"
   ]
  },
  {
   "cell_type": "code",
   "execution_count": 9,
   "id": "ee475df6",
   "metadata": {
    "execution": {
     "iopub.execute_input": "2025-04-04T22:18:08.255569Z",
     "iopub.status.busy": "2025-04-04T22:18:08.255323Z",
     "iopub.status.idle": "2025-04-04T22:18:09.603469Z",
     "shell.execute_reply": "2025-04-04T22:18:09.603184Z"
    },
    "papermill": {
     "duration": 1.350766,
     "end_time": "2025-04-04T22:18:09.604201",
     "exception": false,
     "start_time": "2025-04-04T22:18:08.253435",
     "status": "completed"
    },
    "tags": []
   },
   "outputs": [
    {
     "name": "stdout",
     "output_type": "stream",
     "text": [
      "2025-04-05 00:18:09,597 - main - INFO :: file_handler.py :: logement.logements_sociaux -> results saved to : 'data/imports/logement/logement.logements_sociaux_EPCI.xlsx'\n"
     ]
    },
    {
     "data": {
      "text/html": [
       "<div>\n",
       "<style scoped>\n",
       "    .dataframe tbody tr th:only-of-type {\n",
       "        vertical-align: middle;\n",
       "    }\n",
       "\n",
       "    .dataframe tbody tr th {\n",
       "        vertical-align: top;\n",
       "    }\n",
       "\n",
       "    .dataframe thead th {\n",
       "        text-align: right;\n",
       "    }\n",
       "</style>\n",
       "<table border=\"1\" class=\"dataframe\">\n",
       "  <thead>\n",
       "    <tr style=\"text-align: right;\">\n",
       "      <th></th>\n",
       "      <th>LIBEPCI</th>\n",
       "      <th>densite</th>\n",
       "      <th>nb_ls</th>\n",
       "      <th>tx_vac</th>\n",
       "      <th>tx_mob</th>\n",
       "    </tr>\n",
       "    <tr>\n",
       "      <th>EPCI_DEP</th>\n",
       "      <th></th>\n",
       "      <th></th>\n",
       "      <th></th>\n",
       "      <th></th>\n",
       "      <th></th>\n",
       "    </tr>\n",
       "  </thead>\n",
       "  <tbody>\n",
       "    <tr>\n",
       "      <th>200029999 - (01)</th>\n",
       "      <td>CC Rives de l'Ain - Pays du Cerdon</td>\n",
       "      <td>9.90</td>\n",
       "      <td>637</td>\n",
       "      <td>2.7553</td>\n",
       "      <td>11.8506</td>\n",
       "    </tr>\n",
       "    <tr>\n",
       "      <th>200040350 - (01)</th>\n",
       "      <td>CC Bugey Sud</td>\n",
       "      <td>12.68</td>\n",
       "      <td>1936</td>\n",
       "      <td>3.5656</td>\n",
       "      <td>9.9287</td>\n",
       "    </tr>\n",
       "    <tr>\n",
       "      <th>200040590 - (01)</th>\n",
       "      <td>CA Villefranche Beaujolais Saône</td>\n",
       "      <td>26.53</td>\n",
       "      <td>713</td>\n",
       "      <td>1.8545</td>\n",
       "      <td>8.4165</td>\n",
       "    </tr>\n",
       "    <tr>\n",
       "      <th>200042497 - (01)</th>\n",
       "      <td>CC Dombes Saône Vallée</td>\n",
       "      <td>12.37</td>\n",
       "      <td>1976</td>\n",
       "      <td>1.5041</td>\n",
       "      <td>10.2096</td>\n",
       "    </tr>\n",
       "    <tr>\n",
       "      <th>200042935 - (01)</th>\n",
       "      <td>CA Haut - Bugey Agglomération</td>\n",
       "      <td>29.97</td>\n",
       "      <td>8178</td>\n",
       "      <td>3.7475</td>\n",
       "      <td>9.5453</td>\n",
       "    </tr>\n",
       "  </tbody>\n",
       "</table>\n",
       "</div>"
      ],
      "text/plain": [
       "                                             LIBEPCI  densite  nb_ls  tx_vac  \\\n",
       "EPCI_DEP                                                                       \n",
       "200029999 - (01)  CC Rives de l'Ain - Pays du Cerdon     9.90    637  2.7553   \n",
       "200040350 - (01)                        CC Bugey Sud    12.68   1936  3.5656   \n",
       "200040590 - (01)    CA Villefranche Beaujolais Saône    26.53    713  1.8545   \n",
       "200042497 - (01)              CC Dombes Saône Vallée    12.37   1976  1.5041   \n",
       "200042935 - (01)       CA Haut - Bugey Agglomération    29.97   8178  3.7475   \n",
       "\n",
       "                   tx_mob  \n",
       "EPCI_DEP                   \n",
       "200029999 - (01)  11.8506  \n",
       "200040350 - (01)   9.9287  \n",
       "200040590 - (01)   8.4165  \n",
       "200042497 - (01)  10.2096  \n",
       "200042935 - (01)   9.5453  "
      ]
     },
     "execution_count": 9,
     "metadata": {},
     "output_type": "execute_result"
    }
   ],
   "source": [
    "# Load excel sheet for EPCI\n",
    "keep_columns_epci = [\n",
    "    'LIBEPCI',\n",
    "    'densite',\n",
    "    'nb_ls',\n",
    "    'tx_vac',\n",
    "    'tx_mob'\n",
    "]\n",
    "\n",
    "df_epci = pd.read_excel(wb, \n",
    "                    sheet_name = \"EPCI\",\n",
    "                    index_col = \"EPCI_DEP\",\n",
    "                    header = 5\n",
    "                    )\n",
    "\n",
    "df_epci = df_epci[keep_columns_epci]\n",
    "\n",
    "dataframes[\"EPCI\"] = df_epci\n",
    "\n",
    "epci_artifact = dump_sheet( df_epci, \"EPCI\", model)\n",
    "artifacts.append(epci_artifact)\n",
    "\n",
    "df_epci.head()"
   ]
  },
  {
   "cell_type": "code",
   "execution_count": 10,
   "id": "1dfe182f",
   "metadata": {
    "execution": {
     "iopub.execute_input": "2025-04-04T22:18:09.608185Z",
     "iopub.status.busy": "2025-04-04T22:18:09.608100Z",
     "iopub.status.idle": "2025-04-04T22:18:34.833260Z",
     "shell.execute_reply": "2025-04-04T22:18:34.833033Z"
    },
    "papermill": {
     "duration": 25.228075,
     "end_time": "2025-04-04T22:18:34.834194",
     "exception": false,
     "start_time": "2025-04-04T22:18:09.606119",
     "status": "completed"
    },
    "tags": []
   },
   "outputs": [
    {
     "name": "stdout",
     "output_type": "stream",
     "text": [
      "2025-04-05 00:18:34,829 - main - INFO :: file_handler.py :: logement.logements_sociaux -> results saved to : 'data/imports/logement/logement.logements_sociaux_COMMUNES.xlsx'\n"
     ]
    },
    {
     "data": {
      "text/html": [
       "<div>\n",
       "<style scoped>\n",
       "    .dataframe tbody tr th:only-of-type {\n",
       "        vertical-align: middle;\n",
       "    }\n",
       "\n",
       "    .dataframe tbody tr th {\n",
       "        vertical-align: top;\n",
       "    }\n",
       "\n",
       "    .dataframe thead th {\n",
       "        text-align: right;\n",
       "    }\n",
       "</style>\n",
       "<table border=\"1\" class=\"dataframe\">\n",
       "  <thead>\n",
       "    <tr style=\"text-align: right;\">\n",
       "      <th></th>\n",
       "      <th>LIBCOM_DEP</th>\n",
       "      <th>densite</th>\n",
       "      <th>nb_ls</th>\n",
       "      <th>tx_vac</th>\n",
       "      <th>tx_mob</th>\n",
       "    </tr>\n",
       "    <tr>\n",
       "      <th>DEPCOM_ARM</th>\n",
       "      <th></th>\n",
       "      <th></th>\n",
       "      <th></th>\n",
       "      <th></th>\n",
       "      <th></th>\n",
       "    </tr>\n",
       "  </thead>\n",
       "  <tbody>\n",
       "    <tr>\n",
       "      <th>01001</th>\n",
       "      <td>L'Abergement-Clémenciat (01)</td>\n",
       "      <td>9.38</td>\n",
       "      <td>32</td>\n",
       "      <td>3.1250</td>\n",
       "      <td>9.0909</td>\n",
       "    </tr>\n",
       "    <tr>\n",
       "      <th>01004</th>\n",
       "      <td>Ambérieu-en-Bugey (01)</td>\n",
       "      <td>30.42</td>\n",
       "      <td>2109</td>\n",
       "      <td>4.7952</td>\n",
       "      <td>10.1169</td>\n",
       "    </tr>\n",
       "    <tr>\n",
       "      <th>01005</th>\n",
       "      <td>Ambérieux-en-Dombes (01)</td>\n",
       "      <td>14.22</td>\n",
       "      <td>113</td>\n",
       "      <td>2.7273</td>\n",
       "      <td>14.8515</td>\n",
       "    </tr>\n",
       "    <tr>\n",
       "      <th>01007</th>\n",
       "      <td>Ambronay (01)</td>\n",
       "      <td>10.75</td>\n",
       "      <td>129</td>\n",
       "      <td>2.4390</td>\n",
       "      <td>12.1951</td>\n",
       "    </tr>\n",
       "    <tr>\n",
       "      <th>01008</th>\n",
       "      <td>Ambutrix (01)</td>\n",
       "      <td>5.12</td>\n",
       "      <td>17</td>\n",
       "      <td>5.8824</td>\n",
       "      <td>5.8824</td>\n",
       "    </tr>\n",
       "  </tbody>\n",
       "</table>\n",
       "</div>"
      ],
      "text/plain": [
       "                              LIBCOM_DEP  densite  nb_ls  tx_vac   tx_mob\n",
       "DEPCOM_ARM                                                               \n",
       "01001       L'Abergement-Clémenciat (01)     9.38     32  3.1250   9.0909\n",
       "01004             Ambérieu-en-Bugey (01)    30.42   2109  4.7952  10.1169\n",
       "01005           Ambérieux-en-Dombes (01)    14.22    113  2.7273  14.8515\n",
       "01007                      Ambronay (01)    10.75    129  2.4390  12.1951\n",
       "01008                      Ambutrix (01)     5.12     17  5.8824   5.8824"
      ]
     },
     "execution_count": 10,
     "metadata": {},
     "output_type": "execute_result"
    }
   ],
   "source": [
    "# Load excel sheet for COMMUNES\n",
    "keep_columns_communes = [\n",
    "    'LIBCOM_DEP',\n",
    "    'densite',\n",
    "    'nb_ls',\n",
    "    'tx_vac',\n",
    "    'tx_mob'\n",
    "]\n",
    "\n",
    "df_communes = pd.read_excel(wb, \n",
    "                    sheet_name = \"COMMUNES\",\n",
    "                    index_col = \"DEPCOM_ARM\",\n",
    "                    header = 5\n",
    "                    )\n",
    "\n",
    "df_communes = df_communes[keep_columns_communes]\n",
    "\n",
    "dataframes[\"COMMUNES\"] = df_communes\n",
    "\n",
    "communes_artifact = dump_sheet( df_communes, \"COMMUNES\", model)\n",
    "artifacts.append(communes_artifact)\n",
    "\n",
    "df_communes.head()"
   ]
  },
  {
   "cell_type": "markdown",
   "id": "6299199b",
   "metadata": {
    "papermill": {
     "duration": 0.001786,
     "end_time": "2025-04-04T22:18:34.839892",
     "exception": false,
     "start_time": "2025-04-04T22:18:34.838106",
     "status": "completed"
    },
    "tags": []
   },
   "source": [
    "## Sauvegarde des métadonnées\n",
    "On sauvegarde les métadonnées du processus localement, pour garder l'historique et pouvoir reprendre après erreur si besoin"
   ]
  },
  {
   "cell_type": "code",
   "execution_count": 11,
   "id": "52cc3b5e",
   "metadata": {
    "execution": {
     "iopub.execute_input": "2025-04-04T22:18:34.843812Z",
     "iopub.status.busy": "2025-04-04T22:18:34.843717Z",
     "iopub.status.idle": "2025-04-04T22:18:34.847069Z",
     "shell.execute_reply": "2025-04-04T22:18:34.846866Z"
    },
    "papermill": {
     "duration": 0.006203,
     "end_time": "2025-04-04T22:18:34.847728",
     "exception": false,
     "start_time": "2025-04-04T22:18:34.841525",
     "status": "completed"
    },
    "tags": []
   },
   "outputs": [
    {
     "name": "stdout",
     "output_type": "stream",
     "text": [
      "{'name': 'REGION', 'format': 'xlsx', 'storage_info': {'location': 'data/imports/logement', 'format': 'xlsx', 'file_name': 'logement.logements_sociaux_REGION.xlsx', 'encoding': 'utf-8'}, 'load_to_bronze': True, 'success': True}\n",
      "{'name': 'DEPARTEMENT', 'format': 'xlsx', 'storage_info': {'location': 'data/imports/logement', 'format': 'xlsx', 'file_name': 'logement.logements_sociaux_DEPARTEMENT.xlsx', 'encoding': 'utf-8'}, 'load_to_bronze': True, 'success': True}\n",
      "{'name': 'EPCI', 'format': 'xlsx', 'storage_info': {'location': 'data/imports/logement', 'format': 'xlsx', 'file_name': 'logement.logements_sociaux_EPCI.xlsx', 'encoding': 'utf-8'}, 'load_to_bronze': True, 'success': True}\n",
      "{'name': 'COMMUNES', 'format': 'xlsx', 'storage_info': {'location': 'data/imports/logement', 'format': 'xlsx', 'file_name': 'logement.logements_sociaux_COMMUNES.xlsx', 'encoding': 'utf-8'}, 'load_to_bronze': True, 'success': True}\n",
      "2025-04-05 00:18:34,845 - main - INFO :: file_handler.py :: logement.logements_sociaux -> results saved to : 'data/imports/logement/logement.logements_sociaux_metadata_preprocess.json'\n"
     ]
    },
    {
     "name": "stdout",
     "output_type": "stream",
     "text": [
      "2025-04-05 00:18:34,845 - main - DEBUG :: file_handler.py :: Metadata written in: 'data/imports/logement/logement.logements_sociaux_metadata_preprocess.json'\n"
     ]
    }
   ],
   "source": [
    "for artifact in artifacts:\n",
    "    print(artifact.model_dump( mode = \"json\" ))\n",
    "\n",
    "preprocess_metadata = handler.dump_metadata(\n",
    "    model = model,\n",
    "    operation = OperationType.PREPROCESS,\n",
    "    start_time = start_datetime,\n",
    "    complete = True,\n",
    "    errors = 0,\n",
    "    artifacts = artifacts,\n",
    "    pages = []\n",
    ")"
   ]
  },
  {
   "cell_type": "markdown",
   "id": "0fa8dde7",
   "metadata": {
    "papermill": {
     "duration": 0.001882,
     "end_time": "2025-04-04T22:18:34.852069",
     "exception": false,
     "start_time": "2025-04-04T22:18:34.850187",
     "status": "completed"
    },
    "tags": []
   },
   "source": [
    "## Chargement en couche Bronze\n",
    "On charge un engine SQLAchemy pour charger tous les datasets en base"
   ]
  },
  {
   "cell_type": "code",
   "execution_count": 12,
   "id": "f734211f",
   "metadata": {
    "execution": {
     "iopub.execute_input": "2025-04-04T22:18:34.855937Z",
     "iopub.status.busy": "2025-04-04T22:18:34.855782Z",
     "iopub.status.idle": "2025-04-04T22:18:34.878094Z",
     "shell.execute_reply": "2025-04-04T22:18:34.877832Z"
    },
    "papermill": {
     "duration": 0.025327,
     "end_time": "2025-04-04T22:18:34.879108",
     "exception": false,
     "start_time": "2025-04-04T22:18:34.853781",
     "status": "completed"
    },
    "tags": []
   },
   "outputs": [],
   "source": [
    "# prepare db client\n",
    "vals = dotenv_values()\n",
    "\n",
    "conn_str = \"postgresql://{}:{}@{}:{}/{}\".format(\n",
    "    vals[\"PG_DB_USER\"],\n",
    "    vals[\"PG_DB_PWD\"],\n",
    "    vals[\"PG_DB_HOST\"],\n",
    "    vals[\"PG_DB_PORT\"],\n",
    "    vals[\"PG_DB_NAME\"]\n",
    ")\n",
    "\n",
    "dbengine = sqlalchemy.create_engine(conn_str)"
   ]
  },
  {
   "cell_type": "code",
   "execution_count": 13,
   "id": "806590ed",
   "metadata": {
    "execution": {
     "iopub.execute_input": "2025-04-04T22:18:34.885509Z",
     "iopub.status.busy": "2025-04-04T22:18:34.885402Z",
     "iopub.status.idle": "2025-04-04T22:18:35.948136Z",
     "shell.execute_reply": "2025-04-04T22:18:35.947804Z"
    },
    "papermill": {
     "duration": 1.066625,
     "end_time": "2025-04-04T22:18:35.949109",
     "exception": false,
     "start_time": "2025-04-04T22:18:34.882484",
     "status": "completed"
    },
    "tags": []
   },
   "outputs": [],
   "source": [
    "# insert all to bronze\n",
    "for name, dataframe in dataframes.items():\n",
    "    dataframe.to_sql(\n",
    "        name = f\"{model.table_name}_{name.lower()}\",\n",
    "        con = dbengine,\n",
    "        schema = 'bronze',\n",
    "        index = True,\n",
    "        if_exists = 'replace'\n",
    "    )\n"
   ]
  },
  {
   "cell_type": "code",
   "execution_count": null,
   "id": "42428f29",
   "metadata": {
    "papermill": {
     "duration": 0.002496,
     "end_time": "2025-04-04T22:18:35.954555",
     "exception": false,
     "start_time": "2025-04-04T22:18:35.952059",
     "status": "completed"
    },
    "tags": []
   },
   "outputs": [],
   "source": []
  }
 ],
 "metadata": {
  "kernelspec": {
   "display_name": ".venv",
   "language": "python",
   "name": "python3"
  },
  "language_info": {
   "codemirror_mode": {
    "name": "ipython",
    "version": 3
   },
   "file_extension": ".py",
   "mimetype": "text/x-python",
   "name": "python",
   "nbconvert_exporter": "python",
   "pygments_lexer": "ipython3",
   "version": "3.12.9"
  },
  "papermill": {
   "default_parameters": {},
   "duration": 29.904416,
   "end_time": "2025-04-04T22:18:36.275161",
   "environment_variables": {},
   "exception": null,
   "input_path": "notebooks/logements_sociaux_rpls.ipynb",
   "output_path": "notebooks/logements_sociaux_rpls_processed.ipynb",
   "parameters": {
    "filepath": "data/imports/logement/logement.logements_sociaux_1.xlsx",
    "model_name": "logement.logements_sociaux"
   },
   "start_time": "2025-04-04T22:18:06.370745",
   "version": "2.6.0"
  }
 },
 "nbformat": 4,
 "nbformat_minor": 5
}