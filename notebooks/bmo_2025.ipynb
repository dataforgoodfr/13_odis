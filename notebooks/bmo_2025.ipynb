{
 "cells": [
  {
   "cell_type": "code",
   "execution_count": 3,
   "id": "aee0f389",
   "metadata": {},
   "outputs": [
    {
     "name": "stdout",
     "output_type": "stream",
     "text": [
      "changing to parent dir\n",
      "/home/jbn/13_odis\n"
     ]
    }
   ],
   "source": [
    "# Manage all imports\n",
    "import pandas as pd\n",
    "import os\n",
    "import datetime\n",
    "import sys\n",
    "\n",
    "# Dirty trick to be able to import common odis modules, if the notebook is not executed from 13_odis\n",
    "current_dir = os.getcwd()\n",
    "parent_dir = os.path.dirname(os.getcwd())\n",
    "while not current_dir.endswith(\"13_odis\"):\n",
    "    print(\"changing to parent dir\")\n",
    "    os.chdir(parent_dir)\n",
    "    current_dir = parent_dir\n",
    "    parent_dir = os.path.dirname(current_dir)\n",
    "\n",
    "print(os.getcwd())\n",
    "sys.path.append(current_dir)"
   ]
  },
  {
   "cell_type": "code",
   "execution_count": 4,
   "id": "f19fac1b",
   "metadata": {},
   "outputs": [],
   "source": [
    "# additional imports\n",
    "from common.config import load_config\n",
    "from common.data_source_model import DataSourceModel\n",
    "from common.utils.file_handler import FileHandler\n",
    "from common.utils.interfaces.data_handler import OperationType"
   ]
  },
  {
   "cell_type": "code",
   "execution_count": 5,
   "id": "cd4c15cb",
   "metadata": {
    "tags": [
     "parameters"
    ]
   },
   "outputs": [],
   "source": [
    "# Define parameters for papermill\n",
    "model_name = \"emploi.bmo_2025\"\n",
    "filepath = 'data/imports/emploi/emploi.bmo_2025_1.zip'"
   ]
  },
  {
   "cell_type": "code",
   "execution_count": 6,
   "id": "3fadac0c",
   "metadata": {},
   "outputs": [],
   "source": [
    "# Initialize common variables\n",
    "dataframes = {}\n",
    "artifacts = []\n",
    "\n",
    "config = load_config(\"datasources.yaml\", response_model=DataSourceModel)\n",
    "model = config.get_model( model_name = model_name )\n",
    "start_time = datetime.datetime.now()\n",
    "\n",
    "# Instantiate File Handler for file loads and dumps\n",
    "handler = FileHandler()"
   ]
  },
  {
   "cell_type": "code",
   "execution_count": 7,
   "id": "1b5ebbd6-1ec4-4e45-8890-1155ea52684c",
   "metadata": {},
   "outputs": [
    {
     "name": "stdout",
     "output_type": "stream",
     "text": [
      "xml\n",
      "2025-08-27 17:03:50,272 - DEBUG :: file_handler.py :: dump (162) :: dumping: data/imports/emploi/emploi.bmo_2025_file.xml\n",
      "2025-08-27 17:03:50,275 - DEBUG :: file_handler.py :: file_dump (305) :: emploi.bmo_2025 -> results saved to : 'data/imports/emploi/emploi.bmo_2025_file.xml'\n",
      "{'name': 'file', 'storage_info': {'location': 'data/imports/emploi', 'format': 'xml', 'file_name': 'emploi.bmo_2025_file.xml', 'encoding': 'utf-8'}, 'load_to_bronze': True, 'success': True}\n",
      "rels\n",
      "2025-08-27 17:03:50,278 - DEBUG :: file_handler.py :: dump (162) :: dumping: data/imports/emploi/emploi.bmo_2025_file.rels\n",
      "2025-08-27 17:03:50,279 - DEBUG :: file_handler.py :: file_dump (305) :: emploi.bmo_2025 -> results saved to : 'data/imports/emploi/emploi.bmo_2025_file.rels'\n",
      "{'name': 'file', 'storage_info': {'location': 'data/imports/emploi', 'format': 'rels', 'file_name': 'emploi.bmo_2025_file.rels', 'encoding': 'utf-8'}, 'load_to_bronze': True, 'success': True}\n",
      "xml\n",
      "2025-08-27 17:03:50,282 - DEBUG :: file_handler.py :: dump (162) :: dumping: data/imports/emploi/emploi.bmo_2025_file.xml\n",
      "2025-08-27 17:03:50,284 - DEBUG :: file_handler.py :: file_dump (305) :: emploi.bmo_2025 -> results saved to : 'data/imports/emploi/emploi.bmo_2025_file.xml'\n",
      "{'name': 'file', 'storage_info': {'location': 'data/imports/emploi', 'format': 'xml', 'file_name': 'emploi.bmo_2025_file.xml', 'encoding': 'utf-8'}, 'load_to_bronze': True, 'success': True}\n",
      "rels\n",
      "2025-08-27 17:03:50,286 - DEBUG :: file_handler.py :: dump (162) :: dumping: data/imports/emploi/emploi.bmo_2025_file.rels\n",
      "2025-08-27 17:03:50,287 - DEBUG :: file_handler.py :: file_dump (305) :: emploi.bmo_2025 -> results saved to : 'data/imports/emploi/emploi.bmo_2025_file.rels'\n",
      "{'name': 'file', 'storage_info': {'location': 'data/imports/emploi', 'format': 'rels', 'file_name': 'emploi.bmo_2025_file.rels', 'encoding': 'utf-8'}, 'load_to_bronze': True, 'success': True}\n",
      "xml\n",
      "2025-08-27 17:03:50,290 - DEBUG :: file_handler.py :: dump (162) :: dumping: data/imports/emploi/emploi.bmo_2025_file.xml\n",
      "2025-08-27 17:03:50,291 - DEBUG :: file_handler.py :: file_dump (305) :: emploi.bmo_2025 -> results saved to : 'data/imports/emploi/emploi.bmo_2025_file.xml'\n",
      "{'name': 'file', 'storage_info': {'location': 'data/imports/emploi', 'format': 'xml', 'file_name': 'emploi.bmo_2025_file.xml', 'encoding': 'utf-8'}, 'load_to_bronze': True, 'success': True}\n",
      "xml\n",
      "2025-08-27 17:03:50,373 - DEBUG :: file_handler.py :: dump (162) :: dumping: data/imports/emploi/emploi.bmo_2025_file.xml\n",
      "2025-08-27 17:03:50,418 - DEBUG :: file_handler.py :: file_dump (305) :: emploi.bmo_2025 -> results saved to : 'data/imports/emploi/emploi.bmo_2025_file.xml'\n",
      "{'name': 'file', 'storage_info': {'location': 'data/imports/emploi', 'format': 'xml', 'file_name': 'emploi.bmo_2025_file.xml', 'encoding': 'utf-8'}, 'load_to_bronze': True, 'success': True}\n",
      "xml\n",
      "2025-08-27 17:03:50,420 - DEBUG :: file_handler.py :: dump (162) :: dumping: data/imports/emploi/emploi.bmo_2025_file.xml\n",
      "2025-08-27 17:03:50,425 - DEBUG :: file_handler.py :: file_dump (305) :: emploi.bmo_2025 -> results saved to : 'data/imports/emploi/emploi.bmo_2025_file.xml'\n",
      "{'name': 'file', 'storage_info': {'location': 'data/imports/emploi', 'format': 'xml', 'file_name': 'emploi.bmo_2025_file.xml', 'encoding': 'utf-8'}, 'load_to_bronze': True, 'success': True}\n",
      "xml\n",
      "2025-08-27 17:03:50,428 - DEBUG :: file_handler.py :: dump (162) :: dumping: data/imports/emploi/emploi.bmo_2025_file.xml\n",
      "2025-08-27 17:03:50,429 - DEBUG :: file_handler.py :: file_dump (305) :: emploi.bmo_2025 -> results saved to : 'data/imports/emploi/emploi.bmo_2025_file.xml'\n",
      "{'name': 'file', 'storage_info': {'location': 'data/imports/emploi', 'format': 'xml', 'file_name': 'emploi.bmo_2025_file.xml', 'encoding': 'utf-8'}, 'load_to_bronze': True, 'success': True}\n",
      "xml\n",
      "2025-08-27 17:03:50,431 - DEBUG :: file_handler.py :: dump (162) :: dumping: data/imports/emploi/emploi.bmo_2025_file.xml\n",
      "2025-08-27 17:03:50,433 - DEBUG :: file_handler.py :: file_dump (305) :: emploi.bmo_2025 -> results saved to : 'data/imports/emploi/emploi.bmo_2025_file.xml'\n",
      "{'name': 'file', 'storage_info': {'location': 'data/imports/emploi', 'format': 'xml', 'file_name': 'emploi.bmo_2025_file.xml', 'encoding': 'utf-8'}, 'load_to_bronze': True, 'success': True}\n",
      "xml\n",
      "2025-08-27 17:03:50,435 - DEBUG :: file_handler.py :: dump (162) :: dumping: data/imports/emploi/emploi.bmo_2025_file.xml\n",
      "2025-08-27 17:03:50,436 - DEBUG :: file_handler.py :: file_dump (305) :: emploi.bmo_2025 -> results saved to : 'data/imports/emploi/emploi.bmo_2025_file.xml'\n",
      "{'name': 'file', 'storage_info': {'location': 'data/imports/emploi', 'format': 'xml', 'file_name': 'emploi.bmo_2025_file.xml', 'encoding': 'utf-8'}, 'load_to_bronze': True, 'success': True}\n",
      "png\n",
      "2025-08-27 17:03:50,438 - DEBUG :: file_handler.py :: dump (162) :: dumping: data/imports/emploi/emploi.bmo_2025_file.png\n",
      "2025-08-27 17:03:50,439 - DEBUG :: file_handler.py :: file_dump (305) :: emploi.bmo_2025 -> results saved to : 'data/imports/emploi/emploi.bmo_2025_file.png'\n",
      "{'name': 'file', 'storage_info': {'location': 'data/imports/emploi', 'format': 'png', 'file_name': 'emploi.bmo_2025_file.png', 'encoding': 'utf-8'}, 'load_to_bronze': True, 'success': True}\n",
      "jpeg\n",
      "2025-08-27 17:03:50,441 - DEBUG :: file_handler.py :: dump (162) :: dumping: data/imports/emploi/emploi.bmo_2025_file.jpeg\n",
      "2025-08-27 17:03:50,443 - DEBUG :: file_handler.py :: file_dump (305) :: emploi.bmo_2025 -> results saved to : 'data/imports/emploi/emploi.bmo_2025_file.jpeg'\n",
      "{'name': 'file', 'storage_info': {'location': 'data/imports/emploi', 'format': 'jpeg', 'file_name': 'emploi.bmo_2025_file.jpeg', 'encoding': 'utf-8'}, 'load_to_bronze': True, 'success': True}\n",
      "rels\n",
      "2025-08-27 17:03:50,445 - DEBUG :: file_handler.py :: dump (162) :: dumping: data/imports/emploi/emploi.bmo_2025_file.rels\n",
      "2025-08-27 17:03:50,446 - DEBUG :: file_handler.py :: file_dump (305) :: emploi.bmo_2025 -> results saved to : 'data/imports/emploi/emploi.bmo_2025_file.rels'\n",
      "{'name': 'file', 'storage_info': {'location': 'data/imports/emploi', 'format': 'rels', 'file_name': 'emploi.bmo_2025_file.rels', 'encoding': 'utf-8'}, 'load_to_bronze': True, 'success': True}\n",
      "rels\n",
      "2025-08-27 17:03:50,449 - DEBUG :: file_handler.py :: dump (162) :: dumping: data/imports/emploi/emploi.bmo_2025_file.rels\n",
      "2025-08-27 17:03:50,450 - DEBUG :: file_handler.py :: file_dump (305) :: emploi.bmo_2025 -> results saved to : 'data/imports/emploi/emploi.bmo_2025_file.rels'\n",
      "{'name': 'file', 'storage_info': {'location': 'data/imports/emploi', 'format': 'rels', 'file_name': 'emploi.bmo_2025_file.rels', 'encoding': 'utf-8'}, 'load_to_bronze': True, 'success': True}\n",
      "xml\n",
      "2025-08-27 17:03:50,452 - DEBUG :: file_handler.py :: dump (162) :: dumping: data/imports/emploi/emploi.bmo_2025_file.xml\n",
      "2025-08-27 17:03:50,453 - DEBUG :: file_handler.py :: file_dump (305) :: emploi.bmo_2025 -> results saved to : 'data/imports/emploi/emploi.bmo_2025_file.xml'\n",
      "{'name': 'file', 'storage_info': {'location': 'data/imports/emploi', 'format': 'xml', 'file_name': 'emploi.bmo_2025_file.xml', 'encoding': 'utf-8'}, 'load_to_bronze': True, 'success': True}\n",
      "xml\n",
      "2025-08-27 17:03:50,454 - DEBUG :: file_handler.py :: dump (162) :: dumping: data/imports/emploi/emploi.bmo_2025_file.xml\n",
      "2025-08-27 17:03:50,455 - DEBUG :: file_handler.py :: file_dump (305) :: emploi.bmo_2025 -> results saved to : 'data/imports/emploi/emploi.bmo_2025_file.xml'\n",
      "{'name': 'file', 'storage_info': {'location': 'data/imports/emploi', 'format': 'xml', 'file_name': 'emploi.bmo_2025_file.xml', 'encoding': 'utf-8'}, 'load_to_bronze': True, 'success': True}\n",
      "xml\n",
      "2025-08-27 17:03:50,457 - DEBUG :: file_handler.py :: dump (162) :: dumping: data/imports/emploi/emploi.bmo_2025_file.xml\n",
      "2025-08-27 17:03:50,458 - DEBUG :: file_handler.py :: file_dump (305) :: emploi.bmo_2025 -> results saved to : 'data/imports/emploi/emploi.bmo_2025_file.xml'\n",
      "{'name': 'file', 'storage_info': {'location': 'data/imports/emploi', 'format': 'xml', 'file_name': 'emploi.bmo_2025_file.xml', 'encoding': 'utf-8'}, 'load_to_bronze': True, 'success': True}\n"
     ]
    }
   ],
   "source": [
    "from zipfile import ZipFile\n",
    "\n",
    "# unzip and dump files into the data/imports folder\n",
    "with open(filepath, 'rb') as f:\n",
    "    zip_archive = ZipFile(f)\n",
    "\n",
    "    zip_members = zip_archive.infolist()\n",
    "    for member in zip_members:\n",
    "\n",
    "        if not member.is_dir():\n",
    "\n",
    "            member_filename = member.filename\n",
    "            member_name = member_filename.split(\".\")[0]\n",
    "            member_format = member_filename.split(\".\")[-1]\n",
    "            print(member_format)\n",
    "            \n",
    "            f_member = zip_archive.open( member, 'r' ).read()\n",
    "    \n",
    "            artifact = handler.artifact_dump(\n",
    "                f_member,\n",
    "                \"file\",\n",
    "                model,\n",
    "                format = member_format\n",
    "            )\n",
    "\n",
    "            print(artifact.model_dump(mode=\"yaml\"))\n",
    "\n",
    "            artifacts.append(artifact)"
   ]
  },
  {
   "cell_type": "code",
   "execution_count": 8,
   "id": "e0e95b98",
   "metadata": {},
   "outputs": [
    {
     "name": "stdout",
     "output_type": "stream",
     "text": [
      "2025-08-27 17:03:50,469 - DEBUG :: file_handler.py :: dump (162) :: dumping: data/imports/emploi/emploi.bmo_2025_metadata_preprocess.json\n",
      "2025-08-27 17:03:50,472 - DEBUG :: file_handler.py :: file_dump (305) :: emploi.bmo_2025 -> results saved to : 'data/imports/emploi/emploi.bmo_2025_metadata_preprocess.json'\n",
      "2025-08-27 17:03:50,473 - DEBUG :: file_handler.py :: dump_metadata (473) :: Metadata written in: 'data/imports/emploi/emploi.bmo_2025_metadata_preprocess.json'\n"
     ]
    }
   ],
   "source": [
    "preprocess_metadata = handler.dump_metadata(\n",
    "    model = model,\n",
    "    operation = OperationType.PREPROCESS,\n",
    "    start_time = start_time,\n",
    "    complete = True,\n",
    "    errors = 0,\n",
    "    artifacts = artifacts,\n",
    "    pages = []\n",
    ")"
   ]
  },
  {
   "cell_type": "code",
   "execution_count": 9,
   "id": "7e35462b-bcc3-4f98-84d7-f71e8cb7873f",
   "metadata": {},
   "outputs": [
    {
     "ename": "ValueError",
     "evalue": "Excel file format cannot be determined, you must specify an engine manually.",
     "output_type": "error",
     "traceback": [
      "\u001b[31m---------------------------------------------------------------------------\u001b[39m",
      "\u001b[31mValueError\u001b[39m                                Traceback (most recent call last)",
      "\u001b[36mCell\u001b[39m\u001b[36m \u001b[39m\u001b[32mIn[9]\u001b[39m\u001b[32m, line 7\u001b[39m\n\u001b[32m      4\u001b[39m xls_base_path = Path( artifact.storage_info.location )\n\u001b[32m      5\u001b[39m xls_filepath = xls_base_path / artifact.storage_info.file_name\n\u001b[32m----> \u001b[39m\u001b[32m7\u001b[39m df = \u001b[43mpd\u001b[49m\u001b[43m.\u001b[49m\u001b[43mread_excel\u001b[49m\u001b[43m(\u001b[49m\n\u001b[32m      8\u001b[39m \u001b[43m    \u001b[49m\u001b[43mxls_filepath\u001b[49m\u001b[43m,\u001b[49m\u001b[43m \u001b[49m\n\u001b[32m      9\u001b[39m \u001b[43m    \u001b[49m\u001b[43msheet_name\u001b[49m\u001b[43m=\u001b[49m\u001b[33;43m'\u001b[39;49m\u001b[33;43mBMO_2025_open_data\u001b[39;49m\u001b[33;43m'\u001b[39;49m\u001b[43m,\u001b[49m\n\u001b[32m     10\u001b[39m \u001b[43m    \u001b[49m\u001b[43m)\u001b[49m \n\u001b[32m     12\u001b[39m dataframes[ artifact.name ] = df\n\u001b[32m     14\u001b[39m df.head()\n",
      "\u001b[36mFile \u001b[39m\u001b[32m~/13_odis/.venv/lib/python3.13/site-packages/pandas/io/excel/_base.py:495\u001b[39m, in \u001b[36mread_excel\u001b[39m\u001b[34m(io, sheet_name, header, names, index_col, usecols, dtype, engine, converters, true_values, false_values, skiprows, nrows, na_values, keep_default_na, na_filter, verbose, parse_dates, date_parser, date_format, thousands, decimal, comment, skipfooter, storage_options, dtype_backend, engine_kwargs)\u001b[39m\n\u001b[32m    493\u001b[39m \u001b[38;5;28;01mif\u001b[39;00m \u001b[38;5;129;01mnot\u001b[39;00m \u001b[38;5;28misinstance\u001b[39m(io, ExcelFile):\n\u001b[32m    494\u001b[39m     should_close = \u001b[38;5;28;01mTrue\u001b[39;00m\n\u001b[32m--> \u001b[39m\u001b[32m495\u001b[39m     io = \u001b[43mExcelFile\u001b[49m\u001b[43m(\u001b[49m\n\u001b[32m    496\u001b[39m \u001b[43m        \u001b[49m\u001b[43mio\u001b[49m\u001b[43m,\u001b[49m\n\u001b[32m    497\u001b[39m \u001b[43m        \u001b[49m\u001b[43mstorage_options\u001b[49m\u001b[43m=\u001b[49m\u001b[43mstorage_options\u001b[49m\u001b[43m,\u001b[49m\n\u001b[32m    498\u001b[39m \u001b[43m        \u001b[49m\u001b[43mengine\u001b[49m\u001b[43m=\u001b[49m\u001b[43mengine\u001b[49m\u001b[43m,\u001b[49m\n\u001b[32m    499\u001b[39m \u001b[43m        \u001b[49m\u001b[43mengine_kwargs\u001b[49m\u001b[43m=\u001b[49m\u001b[43mengine_kwargs\u001b[49m\u001b[43m,\u001b[49m\n\u001b[32m    500\u001b[39m \u001b[43m    \u001b[49m\u001b[43m)\u001b[49m\n\u001b[32m    501\u001b[39m \u001b[38;5;28;01melif\u001b[39;00m engine \u001b[38;5;129;01mand\u001b[39;00m engine != io.engine:\n\u001b[32m    502\u001b[39m     \u001b[38;5;28;01mraise\u001b[39;00m \u001b[38;5;167;01mValueError\u001b[39;00m(\n\u001b[32m    503\u001b[39m         \u001b[33m\"\u001b[39m\u001b[33mEngine should not be specified when passing \u001b[39m\u001b[33m\"\u001b[39m\n\u001b[32m    504\u001b[39m         \u001b[33m\"\u001b[39m\u001b[33man ExcelFile - ExcelFile already has the engine set\u001b[39m\u001b[33m\"\u001b[39m\n\u001b[32m    505\u001b[39m     )\n",
      "\u001b[36mFile \u001b[39m\u001b[32m~/13_odis/.venv/lib/python3.13/site-packages/pandas/io/excel/_base.py:1554\u001b[39m, in \u001b[36mExcelFile.__init__\u001b[39m\u001b[34m(self, path_or_buffer, engine, storage_options, engine_kwargs)\u001b[39m\n\u001b[32m   1550\u001b[39m     ext = inspect_excel_format(\n\u001b[32m   1551\u001b[39m         content_or_path=path_or_buffer, storage_options=storage_options\n\u001b[32m   1552\u001b[39m     )\n\u001b[32m   1553\u001b[39m     \u001b[38;5;28;01mif\u001b[39;00m ext \u001b[38;5;129;01mis\u001b[39;00m \u001b[38;5;28;01mNone\u001b[39;00m:\n\u001b[32m-> \u001b[39m\u001b[32m1554\u001b[39m         \u001b[38;5;28;01mraise\u001b[39;00m \u001b[38;5;167;01mValueError\u001b[39;00m(\n\u001b[32m   1555\u001b[39m             \u001b[33m\"\u001b[39m\u001b[33mExcel file format cannot be determined, you must specify \u001b[39m\u001b[33m\"\u001b[39m\n\u001b[32m   1556\u001b[39m             \u001b[33m\"\u001b[39m\u001b[33man engine manually.\u001b[39m\u001b[33m\"\u001b[39m\n\u001b[32m   1557\u001b[39m         )\n\u001b[32m   1559\u001b[39m engine = config.get_option(\u001b[33mf\u001b[39m\u001b[33m\"\u001b[39m\u001b[33mio.excel.\u001b[39m\u001b[38;5;132;01m{\u001b[39;00mext\u001b[38;5;132;01m}\u001b[39;00m\u001b[33m.reader\u001b[39m\u001b[33m\"\u001b[39m, silent=\u001b[38;5;28;01mTrue\u001b[39;00m)\n\u001b[32m   1560\u001b[39m \u001b[38;5;28;01mif\u001b[39;00m engine == \u001b[33m\"\u001b[39m\u001b[33mauto\u001b[39m\u001b[33m\"\u001b[39m:\n",
      "\u001b[31mValueError\u001b[39m: Excel file format cannot be determined, you must specify an engine manually."
     ]
    }
   ],
   "source": [
    "from pathlib import Path\n",
    "artifact = artifacts[0]\n",
    "\n",
    "xls_base_path = Path( artifact.storage_info.location )\n",
    "xls_filepath = xls_base_path / artifact.storage_info.file_name\n",
    "\n",
    "df = pd.read_excel(\n",
    "    xls_filepath, \n",
    "    sheet_name='BMO_2025_open_data',\n",
    "    ) \n",
    "\n",
    "dataframes[ artifact.name ] = df\n",
    "\n",
    "df.head()\n"
   ]
  },
  {
   "cell_type": "code",
   "execution_count": null,
   "id": "26f122f2-89aa-4c2c-a124-83dead75c61a",
   "metadata": {},
   "outputs": [],
   "source": [
    "from dotenv import dotenv_values\n",
    "import sqlalchemy\n",
    "from sqlalchemy import text\n",
    "\n",
    "# prepare db client\n",
    "vals = dotenv_values()\n",
    "\n",
    "conn_str = \"postgresql://{}:{}@{}:{}/{}\".format(\n",
    "    vals[\"PG_DB_USER\"],\n",
    "    vals[\"PG_DB_PWD\"],\n",
    "    vals[\"PG_DB_HOST\"],\n",
    "    vals[\"PG_DB_PORT\"],\n",
    "    vals[\"PG_DB_NAME\"]\n",
    ")\n",
    "\n",
    "dbengine = sqlalchemy.create_engine(conn_str)"
   ]
  },
  {
   "cell_type": "code",
   "execution_count": null,
   "id": "ca8e6152",
   "metadata": {},
   "outputs": [],
   "source": [
    "# insert all to bronze\n",
    "# make the final table name lowercase to avoid issues in Postgre\n",
    "\n",
    "for name, dataframe in dataframes.items():\n",
    "\n",
    "    subtable_name = f\"{model.table_name}_{name.lower()}\"\n",
    "    query_str = f\"DROP TABLE IF EXISTS bronze.{subtable_name} CASCADE\"\n",
    "\n",
    "    # dropping existing table with cascade\n",
    "    with dbengine.connect() as con:\n",
    "        print(f\"Dropping if exists: {subtable_name}\")\n",
    "        result = con.execute(text(query_str))\n",
    "        con.commit()\n",
    "\n",
    "    print(f\"Inserting DataFrame {subtable_name}\")\n",
    "    dataframe.to_sql(\n",
    "        name = subtable_name,\n",
    "        con = dbengine,\n",
    "        schema = 'bronze',\n",
    "        index = True,\n",
    "        if_exists = 'replace'\n",
    "    )"
   ]
  }
 ],
 "metadata": {
  "kernelspec": {
   "display_name": ".venv",
   "language": "python",
   "name": "python3"
  },
  "language_info": {
   "codemirror_mode": {
    "name": "ipython",
    "version": 3
   },
   "file_extension": ".py",
   "mimetype": "text/x-python",
   "name": "python",
   "nbconvert_exporter": "python",
   "pygments_lexer": "ipython3",
   "version": "3.13.3"
  }
 },
 "nbformat": 4,
 "nbformat_minor": 5
}
