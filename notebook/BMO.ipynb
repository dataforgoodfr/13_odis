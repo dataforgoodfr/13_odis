{
 "cells": [
  {
   "cell_type": "code",
   "execution_count": 2,
   "id": "1b5ebbd6-1ec4-4e45-8890-1155ea52684c",
   "metadata": {},
   "outputs": [
    {
     "name": "stdout",
     "output_type": "stream",
     "text": [
      "Zipped content len: 3244.393 Kb\n",
      "File Name                                             Modified             Size\n",
      "Donnees_consolidees_2024/                      2024-04-25 15:30:16            0\n",
      "Donnees_consolidees_2024/Base_open_data_BMO_2024.xlsx 2024-04-25 15:28:28      3491167\n"
     ]
    }
   ],
   "source": [
    "import requests\n",
    "from zipfile import ZipFile \n",
    "from io import BytesIO\n",
    "\n",
    "\n",
    "resp = requests.get('https://www.data.gouv.fr/fr/datasets/r/4319f5e8-a8e6-476c-8da0-c0d3439ebb55')\n",
    "\n",
    "resp.raise_for_status()\n",
    "\n",
    "# the response is a zipfile\n",
    "zipped_content =  BytesIO(resp.content)\n",
    "\n",
    "print(f\"Zipped content len: {len(zipped_content.getvalue())/1000} Kb\") \n",
    "\n",
    "# unzip\n",
    "\n",
    "with ZipFile(zipped_content) as zip_archive:\n",
    "    zip_archive.printdir() \n",
    "    zip_archive.extractall()\n",
    "\n",
    "\n"
   ]
  },
  {
   "cell_type": "code",
   "execution_count": 1,
   "id": "7e35462b-bcc3-4f98-84d7-f71e8cb7873f",
   "metadata": {},
   "outputs": [
    {
     "name": "stdout",
     "output_type": "stream",
     "text": [
      "Analyzing ./Donnees_consolidees_2024/Base_open_data_BMO_2024.xlsx\n",
      "       annee Code métier BMO Nom métier BMO Famille_met  \\\n",
      "0       2024           A0X40   Agriculteurs           Z   \n",
      "1       2024           A0X40   Agriculteurs           Z   \n",
      "2       2024           A0X40   Agriculteurs           Z   \n",
      "3       2024           A0X40   Agriculteurs           Z   \n",
      "4       2024           A0X40   Agriculteurs           Z   \n",
      "...      ...             ...            ...         ...   \n",
      "53438   2024           W1X80     Formateurs           S   \n",
      "53439   2024           W1X80     Formateurs           S   \n",
      "53440   2024           W1X80     Formateurs           S   \n",
      "53441   2024           W1X80     Formateurs           S   \n",
      "53442   2024           W1X80     Formateurs           S   \n",
      "\n",
      "                                 Lbl_fam_met  REG                     NOM_REG  \\\n",
      "0                             Autres métiers    1                  Guadeloupe   \n",
      "1                             Autres métiers    1                  Guadeloupe   \n",
      "2                             Autres métiers    1                  Guadeloupe   \n",
      "3                             Autres métiers    1                  Guadeloupe   \n",
      "4                             Autres métiers    1                  Guadeloupe   \n",
      "...                                      ...  ...                         ...   \n",
      "53438  Fonctions sociales et médico-sociales   93  Provence-Alpes-Côte d'Azur   \n",
      "53439  Fonctions sociales et médico-sociales   93  Provence-Alpes-Côte d'Azur   \n",
      "53440  Fonctions sociales et médico-sociales   94                       Corse   \n",
      "53441  Fonctions sociales et médico-sociales   94                       Corse   \n",
      "53442  Fonctions sociales et médico-sociales   94                       Corse   \n",
      "\n",
      "      Dept           NomDept  BE24                   NOMBE24  met xmet smet  \n",
      "0      971        Guadeloupe   101        BASSIN BASSE-TERRE   95   31   44  \n",
      "1      971        Guadeloupe   102       BASSIN GRANDE-TERRE  167   69   86  \n",
      "2      971        Guadeloupe   103      BASSIN MARIE-GALANTE   17    *    *  \n",
      "3      978        Guadeloupe   104       BASSIN ILES DU NORD    6    6    *  \n",
      "4      971        Guadeloupe   105             BASSIN CENTRE   45   37   30  \n",
      "...    ...               ...   ...                       ...  ...  ...  ...  \n",
      "53438   83               Var  9332                  HAUT VAR   62   19    *  \n",
      "53439   13  Bouches-du-Rhône  9333       AIX  GARDANNE SALON  202  108    *  \n",
      "53440   2A      Corse-du-Sud  9407                   AJACCIO   88   88    *  \n",
      "53441   2B       Haute-Corse  9409                    BASTIA    *    *    *  \n",
      "53442   2B       Haute-Corse  9411  CORTE GHISONACCIA ALERIA    *    *    *  \n",
      "\n",
      "[53443 rows x 14 columns]\n"
     ]
    }
   ],
   "source": [
    "import os\n",
    "import pandas as pd\n",
    "\n",
    "# take the 1st xslx in the 1st directory \n",
    "for d in os.scandir('.'):\n",
    "    if d.is_dir():\n",
    "        \n",
    "        for f in os.scandir(d.path):\n",
    "            if f.is_file() and f.name.endswith('.xlsx'):\n",
    "                print(f\"Analyzing {f.path}\")\n",
    "                df = pd.read_excel(open(f.path, 'rb'), sheet_name='BMO_2024_open_data') \n",
    "                print(df)\n",
    "\n",
    "                # Now store xslx on S3 or use the DF to load into the bronze Schema ?\n",
    "            "
   ]
  },
  {
   "cell_type": "code",
   "execution_count": null,
   "id": "26f122f2-89aa-4c2c-a124-83dead75c61a",
   "metadata": {},
   "outputs": [],
   "source": []
  }
 ],
 "metadata": {
  "kernelspec": {
   "display_name": "Python 3 (ipykernel)",
   "language": "python",
   "name": "python3"
  },
  "language_info": {
   "codemirror_mode": {
    "name": "ipython",
    "version": 3
   },
   "file_extension": ".py",
   "mimetype": "text/x-python",
   "name": "python",
   "nbconvert_exporter": "python",
   "pygments_lexer": "ipython3",
   "version": "3.12.6"
  }
 },
 "nbformat": 4,
 "nbformat_minor": 5
}
