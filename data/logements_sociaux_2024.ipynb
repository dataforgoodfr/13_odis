{
 "cells": [
  {
   "cell_type": "code",
   "execution_count": 9,
   "metadata": {},
   "outputs": [],
   "source": [
    "import requests\n",
    "import pandas as pd\n",
    "from io import BytesIO\n",
    "\n",
    "# URL of the Excel file\n",
    "url = \"https://www.statistiques.developpement-durable.gouv.fr/media/7970/download?inline\"\n",
    "\n",
    "response = requests.get(url)\n",
    "response.raise_for_status()  \n",
    "\n",
    "xls = pd.ExcelFile(BytesIO(response.content), engine=\"openpyxl\")\n",
    "\n",
    "df = pd.read_excel(xls, sheet_name=\"COMMUNES\", skiprows=5)\n",
    "\n",
    "columns_to_extract = ['REG', 'DEP', 'DEPCOM_ARM', 'LIBCOM', 'densite', 'nb_ls', 'tx_vac', 'tx_mob']\n",
    "\n",
    "df_filtered = df[columns_to_extract]\n",
    "\n",
    "lgt_soc_2024_extracted = df_filtered.to_csv(index=False)\n",
    "\n",
    "with open('lgt_soc_2024_extracted.csv', 'w', encoding='utf-8') as f:\n",
    "    f.write(lgt_soc_2024_extracted)\n"
   ]
  }
 ],
 "metadata": {
  "kernelspec": {
   "display_name": "base",
   "language": "python",
   "name": "python3"
  },
  "language_info": {
   "codemirror_mode": {
    "name": "ipython",
    "version": 3
   },
   "file_extension": ".py",
   "mimetype": "text/x-python",
   "name": "python",
   "nbconvert_exporter": "python",
   "pygments_lexer": "ipython3",
   "version": "3.11.7"
  }
 },
 "nbformat": 4,
 "nbformat_minor": 2
}
